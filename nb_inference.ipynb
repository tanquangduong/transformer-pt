{
 "cells": [
  {
   "cell_type": "code",
   "execution_count": 1,
   "id": "13493e70",
   "metadata": {},
   "outputs": [],
   "source": [
    "import torch\n",
    "from transformer.utils import create_tranformer_model\n",
    "from transformer.utils import load_config, get_dataset, get_tokenizer\n",
    "from transformer.utils import get_checkpoint_path\n",
    "from transformer.engine import inference"
   ]
  },
  {
   "cell_type": "markdown",
   "id": "2758f331-8959-49c9-b8fd-6e8cc94d5edd",
   "metadata": {},
   "source": [
    "## Load configuration"
   ]
  },
  {
   "cell_type": "code",
   "execution_count": 3,
   "id": "e89f3c35",
   "metadata": {},
   "outputs": [
    {
     "name": "stdout",
     "output_type": "stream",
     "text": [
      "Using cuda device\n"
     ]
    },
    {
     "data": {
      "application/vnd.jupyter.widget-view+json": {
       "model_id": "ceb4d021f5bb444d893b7863d1eb130e",
       "version_major": 2,
       "version_minor": 0
      },
      "text/plain": [
       "Downloading readme:   0%|          | 0.00/26.9k [00:00<?, ?B/s]"
      ]
     },
     "metadata": {},
     "output_type": "display_data"
    },
    {
     "data": {
      "application/vnd.jupyter.widget-view+json": {
       "model_id": "1b20ce11342546eba81ec94fee2761d0",
       "version_major": 2,
       "version_minor": 0
      },
      "text/plain": [
       "Downloading data files:   0%|          | 0/1 [00:00<?, ?it/s]"
      ]
     },
     "metadata": {},
     "output_type": "display_data"
    },
    {
     "data": {
      "application/vnd.jupyter.widget-view+json": {
       "model_id": "187a019ef3b24a63b45bbc17f034b2a1",
       "version_major": 2,
       "version_minor": 0
      },
      "text/plain": [
       "Downloading data:   0%|          | 0.00/42.8M [00:00<?, ?B/s]"
      ]
     },
     "metadata": {},
     "output_type": "display_data"
    },
    {
     "data": {
      "application/vnd.jupyter.widget-view+json": {
       "model_id": "4ed44e84aa36433abf6a89c14c8b546c",
       "version_major": 2,
       "version_minor": 0
      },
      "text/plain": [
       "Extracting data files:   0%|          | 0/1 [00:00<?, ?it/s]"
      ]
     },
     "metadata": {},
     "output_type": "display_data"
    },
    {
     "data": {
      "application/vnd.jupyter.widget-view+json": {
       "model_id": "d89ba790ac8343b6bf5b2b2a13815851",
       "version_major": 2,
       "version_minor": 0
      },
      "text/plain": [
       "Generating train split:   0%|          | 0/209479 [00:00<?, ? examples/s]"
      ]
     },
     "metadata": {},
     "output_type": "display_data"
    }
   ],
   "source": [
    "# Assign the device for computation (GPU if available, else CPU)\n",
    "device = torch.device(\"cuda\" if torch.cuda.is_available() else \"cpu\")\n",
    "print(f\"Using {device} device\")\n",
    "## Get Config, dataset, tokenizers\n",
    "config_file_path = \"./config.json\"\n",
    "config = load_config(config_file_path)\n",
    "dataset = get_dataset(config)\n",
    "tokenizer_src = get_tokenizer(config, dataset, config['language_source'])\n",
    "tokenizer_tgt = get_tokenizer(config, dataset, config['language_target'])\n",
    "\n",
    "## Define model, random input and get random output\n",
    "# Define the dimensions and vocabulary size\n",
    "# Define the parameters for the transformer model\n",
    "vocab_size_src = tokenizer_src.get_vocab_size()\n",
    "vocab_size_tgt = tokenizer_tgt.get_vocab_size()\n",
    "seq_len = config['seq_len']\n"
   ]
  },
  {
   "cell_type": "markdown",
   "id": "d75fe2fa-660c-4794-8549-a463da2c0cca",
   "metadata": {},
   "source": [
    "## Load model and latest checkpoint"
   ]
  },
  {
   "cell_type": "code",
   "execution_count": 4,
   "id": "cda354f2-f335-4a3b-9fa5-fc78f82a6f16",
   "metadata": {},
   "outputs": [
    {
     "name": "stdout",
     "output_type": "stream",
     "text": [
      "model_checkpoint: models\\transformer_15.pt\n"
     ]
    },
    {
     "data": {
      "text/plain": [
       "<All keys matched successfully>"
      ]
     },
     "execution_count": 4,
     "metadata": {},
     "output_type": "execute_result"
    }
   ],
   "source": [
    "# Create the Transformer model\n",
    "model = create_tranformer_model(config, vocab_size_src, vocab_size_tgt).to(device)\n",
    "# Load latest checkpoint\n",
    "model_checkpoint = get_checkpoint_path(config)\n",
    "print(\"model_checkpoint:\", model_checkpoint)\n",
    "state = torch.load(model_checkpoint)\n",
    "# Assign latest checkpoint to transfromer\n",
    "model.load_state_dict(state['model_state_dict'])"
   ]
  },
  {
   "cell_type": "markdown",
   "id": "dc1932e5-5a72-4225-a56c-13ace4d3fab3",
   "metadata": {},
   "source": [
    "## Translation "
   ]
  },
  {
   "cell_type": "code",
   "execution_count": 7,
   "id": "1bd1c15d-3e47-4b6c-828a-3dd0f5cd948c",
   "metadata": {},
   "outputs": [
    {
     "name": "stdout",
     "output_type": "stream",
     "text": [
      "Source text: \n",
      " Market prices are shaped by the balance of supply and demand.\n",
      ">>>>\n",
      "Translated text: \n",
      " Les prix du marché sont façonnés par l ' équilibre de l ' offre et de la demande .\n"
     ]
    }
   ],
   "source": [
    "source_text = \"Market prices are shaped by the balance of supply and demand.\"\n",
    "translated_text = inference(source_text, \n",
    "                            model, \n",
    "                            tokenizer_src, \n",
    "                            tokenizer_tgt,\n",
    "                            seq_len,\n",
    "                            device)\n",
    "\n",
    "print(\"Source text: \\n\", source_text)\n",
    "print(\">>>>\")\n",
    "print(\"Translated text: \\n\", translated_text)"
   ]
  },
  {
   "cell_type": "code",
   "execution_count": 8,
   "id": "f27b47b8-cd41-451c-b2fb-ddd1374af759",
   "metadata": {},
   "outputs": [
    {
     "name": "stdout",
     "output_type": "stream",
     "text": [
      "Encoding 'shaped' [3621]\n",
      "Encoding 'déterminés' [4343]\n"
     ]
    }
   ],
   "source": [
    "# Check token availability of a word\n",
    "print(\"Encoding \\'shaped\\'\", tokenizer_src.encode('shaped' ).ids)\n",
    "print(\"Encoding \\'déterminés\\'\", tokenizer_tgt.encode('déterminés' ).ids)"
   ]
  },
  {
   "cell_type": "code",
   "execution_count": null,
   "id": "3b4896fa-1e70-48e9-a039-1d4cab1b1536",
   "metadata": {},
   "outputs": [],
   "source": []
  }
 ],
 "metadata": {
  "kernelspec": {
   "display_name": "Python 3 (ipykernel)",
   "language": "python",
   "name": "python3"
  },
  "language_info": {
   "codemirror_mode": {
    "name": "ipython",
    "version": 3
   },
   "file_extension": ".py",
   "mimetype": "text/x-python",
   "name": "python",
   "nbconvert_exporter": "python",
   "pygments_lexer": "ipython3",
   "version": "3.10.13"
  }
 },
 "nbformat": 4,
 "nbformat_minor": 5
}
