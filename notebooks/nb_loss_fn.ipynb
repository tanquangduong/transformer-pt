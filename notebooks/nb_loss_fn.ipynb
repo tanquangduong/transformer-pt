{
 "cells": [
  {
   "cell_type": "code",
   "execution_count": 2,
   "id": "9229a5f2-562e-4f53-9671-22ae8bb53321",
   "metadata": {},
   "outputs": [
    {
     "name": "stdout",
     "output_type": "stream",
     "text": [
      "output: \n",
      " tensor([[-0.6377,  0.7509,  0.3260, -0.8004,  0.8127],\n",
      "        [-0.6685, -1.6276,  0.8615, -0.2605,  1.0766],\n",
      "        [ 0.3043, -0.9517, -1.0953,  0.2755,  0.6838],\n",
      "        [ 0.5590, -0.1398,  0.0232,  0.6718, -0.6836]])\n",
      "target: \n",
      " tensor([1, 2, 3, 1])\n",
      "loss: \n",
      " tensor(1.4373)\n"
     ]
    }
   ],
   "source": [
    "import torch\n",
    "import torch.nn as nn\n",
    "\n",
    "# Assume we have a vocabulary of size 5 and two samples in a batch\n",
    "vocab_size_tgt = 5\n",
    "batch_size = 1\n",
    "seq_len = 4\n",
    "\n",
    "# Create example tensors of  projection_output and decoder_target\n",
    "torch.manual_seed(68) # for reproducible result of random process\n",
    "projection_output = torch.randn(batch_size, seq_len, vocab_size_tgt)  # size: (batch_size, seq_len, vocab_size)\n",
    "decoder_target = torch.tensor([[1, 2, 3, 1]])  # size: (batch_size, seq_len)\n",
    "\n",
    "# Assume the ID of the [PAD] token is 0\n",
    "pad_id = 0\n",
    "\n",
    "# Initialize loss function\n",
    "loss_function = nn.CrossEntropyLoss(ignore_index=pad_id, label_smoothing=0.1)\n",
    "\n",
    "# Calculate loss\n",
    "output = projection_output.view(-1, vocab_size_tgt)\n",
    "target = decoder_target.view(-1)\n",
    "loss = loss_function(output, target)\n",
    "\n",
    "# Print loss\n",
    "print(\"output: \\n\", output)\n",
    "print(\"target: \\n\", target)\n",
    "print(\"loss: \\n\", loss)"
   ]
  },
  {
   "cell_type": "code",
   "execution_count": null,
   "id": "df930e3f-238d-4e18-a9af-37e17adce479",
   "metadata": {},
   "outputs": [],
   "source": []
  }
 ],
 "metadata": {
  "kernelspec": {
   "display_name": "Python 3 (ipykernel)",
   "language": "python",
   "name": "python3"
  },
  "language_info": {
   "codemirror_mode": {
    "name": "ipython",
    "version": 3
   },
   "file_extension": ".py",
   "mimetype": "text/x-python",
   "name": "python",
   "nbconvert_exporter": "python",
   "pygments_lexer": "ipython3",
   "version": "3.10.13"
  }
 },
 "nbformat": 4,
 "nbformat_minor": 5
}
