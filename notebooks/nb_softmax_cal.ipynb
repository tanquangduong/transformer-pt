{
 "cells": [
  {
   "cell_type": "code",
   "execution_count": 1,
   "id": "a52ffb8f-1696-4940-9d1c-8ebd0a5bddbe",
   "metadata": {},
   "outputs": [],
   "source": [
    "import numpy as np\n",
    "\n",
    "def softmax(values):\n",
    "    # Convert values to a numpy array\n",
    "    values = np.array(values, dtype=float)\n",
    "    \n",
    "    # Compute the exponentials of the values\n",
    "    exp_values = np.exp(values - np.max(values))\n",
    "    \n",
    "    # Compute the softmax\n",
    "    softmax_values = exp_values / np.sum(exp_values)\n",
    "    \n",
    "    return softmax_values"
   ]
  },
  {
   "cell_type": "code",
   "execution_count": 4,
   "id": "a7071de5-bf03-4b55-9170-ee9752efac38",
   "metadata": {},
   "outputs": [
    {
     "data": {
      "text/plain": [
       "array([1., 0.])"
      ]
     },
     "execution_count": 4,
     "metadata": {},
     "output_type": "execute_result"
    }
   ],
   "source": [
    "values = [0.252, -np.inf]\n",
    "softmax(values)"
   ]
  },
  {
   "cell_type": "code",
   "execution_count": 7,
   "id": "0140f39f-0f1b-4882-9841-77bb54b5a543",
   "metadata": {},
   "outputs": [
    {
     "data": {
      "text/plain": [
       "array([0.46480828, 0.53519172, 0.        ])"
      ]
     },
     "execution_count": 7,
     "metadata": {},
     "output_type": "execute_result"
    }
   ],
   "source": [
    "values = [0.123, 0.264, -np.inf]\n",
    "softmax(values)"
   ]
  },
  {
   "cell_type": "code",
   "execution_count": 8,
   "id": "c660ebf2-a6f2-46bc-b7aa-b23f9593558e",
   "metadata": {},
   "outputs": [
    {
     "data": {
      "text/plain": [
       "array([0.32517769, 0.31937686, 0.35544545, 0.        ])"
      ]
     },
     "execution_count": 8,
     "metadata": {},
     "output_type": "execute_result"
    }
   ],
   "source": [
    "values = [0.152, 0.134, 0.241, -np.inf]\n",
    "softmax(values)"
   ]
  },
  {
   "cell_type": "code",
   "execution_count": 9,
   "id": "8e7425c9-ce7c-45ab-b47f-700f2aeebf44",
   "metadata": {},
   "outputs": [
    {
     "data": {
      "text/plain": [
       "array([0.24227092, 0.24617843, 0.23866398, 0.27288668, 0.        ])"
      ]
     },
     "execution_count": 9,
     "metadata": {},
     "output_type": "execute_result"
    }
   ],
   "source": [
    "values = [0.136,0.152,0.121,0.255, -np.inf]\n",
    "softmax(values)"
   ]
  },
  {
   "cell_type": "code",
   "execution_count": 10,
   "id": "77421f2b-00fa-4e3b-aa30-5f71261c313c",
   "metadata": {},
   "outputs": [
    {
     "data": {
      "text/plain": [
       "array([0.19680849, 0.19233356, 0.18571832, 0.20078429, 0.22435534])"
      ]
     },
     "execution_count": 10,
     "metadata": {},
     "output_type": "execute_result"
    }
   ],
   "source": [
    "values = [0.164,0.141,0.106,0.184, 0.295]\n",
    "softmax(values)"
   ]
  },
  {
   "cell_type": "code",
   "execution_count": null,
   "id": "eef70183-007e-4761-a2e3-78be63360054",
   "metadata": {},
   "outputs": [],
   "source": []
  }
 ],
 "metadata": {
  "kernelspec": {
   "display_name": "Python 3 (ipykernel)",
   "language": "python",
   "name": "python3"
  },
  "language_info": {
   "codemirror_mode": {
    "name": "ipython",
    "version": 3
   },
   "file_extension": ".py",
   "mimetype": "text/x-python",
   "name": "python",
   "nbconvert_exporter": "python",
   "pygments_lexer": "ipython3",
   "version": "3.10.13"
  }
 },
 "nbformat": 4,
 "nbformat_minor": 5
}
