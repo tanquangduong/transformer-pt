{
 "cells": [
  {
   "cell_type": "code",
   "execution_count": 1,
   "id": "3d2cc365-ab43-42aa-ad8a-a5b56bf3f220",
   "metadata": {},
   "outputs": [],
   "source": [
    "import torch\n",
    "import torch.nn as nn\n",
    "import math"
   ]
  },
  {
   "cell_type": "code",
   "execution_count": 2,
   "id": "f3c0a07d-512c-40bd-9ad4-961dffad5ecb",
   "metadata": {},
   "outputs": [],
   "source": [
    "class FeedForward(nn.Module):\n",
    "    def __init__(self, d_model: int, d_ff: int, dropout: float) -> None:\n",
    "        super().__init__()\n",
    "        self.linear1 = nn.Linear(d_model, d_ff)\n",
    "        self.linear2 = nn.Linear(d_ff, d_model)\n",
    "        self.dropout = nn.Dropout(dropout)\n",
    "    \n",
    "    def forward(self, x): # x: [batch_size, seq_len, d_model]\n",
    "        return self.linear2(self.dropout(torch.relu(self.linear1(x)))) # [batch_size, seq_len, d_model]"
   ]
  },
  {
   "cell_type": "code",
   "execution_count": 3,
   "id": "c700273f-dc4c-4182-9035-8daf7e3ea012",
   "metadata": {},
   "outputs": [
    {
     "name": "stdout",
     "output_type": "stream",
     "text": [
      "torch.Size([10, 20, 512])\n"
     ]
    }
   ],
   "source": [
    "# Define the dimensions and dropout rate\n",
    "d_model = 512\n",
    "d_ff = 2048\n",
    "dropout = 0.1\n",
    "\n",
    "# Create an instance of the FeedForward class\n",
    "ff = FeedForward(d_model, d_ff, dropout)\n",
    "\n",
    "# Create a random tensor to represent a batch of sequences\n",
    "x = torch.rand(10, 20, d_model)  # batch_size=10, seq_len=20, d_model=512\n",
    "\n",
    "# Pass the tensor through the feed-forward network\n",
    "output = ff(x)\n",
    "\n",
    "print(output.shape)  # Should print: torch.Size([10, 20, 512])"
   ]
  },
  {
   "cell_type": "code",
   "execution_count": 4,
   "id": "955999d8-96e5-400b-94ad-6c61a48e64ac",
   "metadata": {},
   "outputs": [
    {
     "data": {
      "text/plain": [
       "tensor([[[-1.8200e-01,  5.1137e-02, -1.6659e-01,  ..., -2.8889e-01,\n",
       "          -9.1770e-02,  3.6541e-02],\n",
       "         [-1.7460e-01,  2.6625e-01, -7.3331e-02,  ...,  4.2512e-02,\n",
       "           3.6073e-02,  1.6579e-01],\n",
       "         [-2.1463e-01,  1.1418e-01,  1.0631e-01,  ..., -1.2425e-01,\n",
       "           7.1892e-03,  5.4625e-02],\n",
       "         ...,\n",
       "         [-7.2507e-02,  9.8096e-02, -1.0626e-01,  ..., -1.7386e-01,\n",
       "          -9.4081e-02, -2.7624e-02],\n",
       "         [ 7.8154e-03,  1.2174e-01, -1.5945e-01,  ..., -2.9642e-02,\n",
       "           2.0368e-02, -6.9206e-02],\n",
       "         [-5.3599e-03,  2.8912e-02, -1.1353e-01,  ..., -1.2720e-01,\n",
       "           1.0075e-01,  7.8424e-02]],\n",
       "\n",
       "        [[-1.1214e-01,  1.9493e-01, -1.0316e-01,  ..., -8.7668e-02,\n",
       "           1.1519e-01, -7.4131e-02],\n",
       "         [-1.6914e-01,  7.5344e-02, -8.6533e-02,  ..., -1.0805e-01,\n",
       "          -9.1293e-02, -7.3672e-03],\n",
       "         [-1.2851e-01,  9.8066e-02, -4.7582e-02,  ..., -2.1023e-01,\n",
       "           7.1987e-02,  4.6370e-02],\n",
       "         ...,\n",
       "         [-2.8259e-02,  1.7313e-01, -6.2560e-02,  ...,  6.5011e-03,\n",
       "          -3.6499e-02, -3.1517e-02],\n",
       "         [-6.2051e-02,  9.5827e-02, -1.7768e-02,  ..., -5.0681e-02,\n",
       "          -1.2253e-01,  2.3625e-02],\n",
       "         [-1.7687e-01,  1.3373e-01, -4.3376e-02,  ..., -2.6417e-01,\n",
       "           8.6125e-02, -1.8717e-01]],\n",
       "\n",
       "        [[-4.7802e-02, -1.0135e-04, -8.7326e-02,  ..., -2.5230e-01,\n",
       "           1.1099e-02,  4.4238e-02],\n",
       "         [-1.8609e-01,  4.1570e-02,  2.7764e-03,  ..., -2.9762e-01,\n",
       "           6.3033e-02, -1.3271e-02],\n",
       "         [-5.2990e-02, -3.9490e-02, -1.2160e-02,  ..., -1.7079e-01,\n",
       "          -1.1643e-02, -1.9488e-02],\n",
       "         ...,\n",
       "         [-1.4652e-01,  1.4227e-01, -3.0063e-02,  ..., -2.7347e-01,\n",
       "           1.1276e-01, -2.5569e-02],\n",
       "         [ 6.0860e-02, -5.7015e-02, -7.9588e-02,  ..., -6.8384e-02,\n",
       "          -5.9110e-02, -1.0619e-01],\n",
       "         [ 3.8359e-02,  3.0304e-02,  1.6087e-02,  ..., -4.3015e-02,\n",
       "           7.1018e-02, -6.0804e-03]],\n",
       "\n",
       "        ...,\n",
       "\n",
       "        [[-1.0832e-01,  1.0895e-01,  2.0479e-02,  ...,  2.6312e-02,\n",
       "          -4.2184e-02, -4.7122e-02],\n",
       "         [-8.4569e-02,  1.2724e-01,  5.0252e-04,  ..., -1.3628e-01,\n",
       "           2.5084e-02,  2.7775e-02],\n",
       "         [-5.9641e-02,  5.5568e-04, -2.8893e-02,  ..., -8.5716e-02,\n",
       "          -1.1480e-01, -1.3636e-01],\n",
       "         ...,\n",
       "         [-1.1803e-01,  7.4952e-02,  1.6570e-02,  ...,  6.0204e-02,\n",
       "          -5.4712e-03, -2.4619e-01],\n",
       "         [-1.7313e-01,  1.1981e-01,  8.4854e-03,  ..., -1.4745e-01,\n",
       "          -3.4326e-02,  7.2531e-02],\n",
       "         [-4.6134e-02,  1.5526e-01,  4.0080e-02,  ..., -1.3550e-01,\n",
       "           8.3216e-03, -5.0304e-03]],\n",
       "\n",
       "        [[ 5.7670e-03,  8.9967e-02,  3.9794e-02,  ..., -2.1524e-01,\n",
       "          -1.3810e-01,  6.8178e-03],\n",
       "         [-1.1835e-01,  1.5684e-01, -2.8291e-03,  ..., -1.5317e-02,\n",
       "          -7.1826e-02, -3.9306e-03],\n",
       "         [ 5.4278e-02,  9.1501e-03, -9.1225e-02,  ..., -8.0506e-02,\n",
       "          -2.4581e-02,  1.5956e-02],\n",
       "         ...,\n",
       "         [-2.1476e-01, -2.3208e-02, -1.5163e-01,  ..., -1.7967e-01,\n",
       "           6.2829e-02, -3.2033e-02],\n",
       "         [-2.4711e-01,  8.1830e-02,  2.0573e-02,  ..., -2.8860e-02,\n",
       "           5.2155e-02, -1.2710e-02],\n",
       "         [-1.5477e-01,  1.9263e-01,  1.0484e-01,  ..., -2.3686e-01,\n",
       "           5.9230e-02, -1.1534e-01]],\n",
       "\n",
       "        [[ 5.0491e-02,  1.8982e-01,  2.6764e-02,  ..., -1.3340e-01,\n",
       "          -1.2810e-02,  4.6927e-02],\n",
       "         [-9.9153e-02,  1.6436e-01, -9.4100e-03,  ..., -2.2551e-01,\n",
       "           2.5871e-02, -6.9071e-02],\n",
       "         [-6.7313e-02,  6.0913e-02, -2.3905e-01,  ..., -1.2093e-01,\n",
       "           1.3858e-01, -9.6694e-03],\n",
       "         ...,\n",
       "         [-1.3502e-01,  2.0204e-01,  8.8763e-02,  ..., -1.5334e-01,\n",
       "           1.2355e-01, -4.1067e-02],\n",
       "         [-5.4968e-02,  1.1481e-01, -9.3945e-03,  ..., -1.3448e-01,\n",
       "           6.8292e-02, -6.2584e-02],\n",
       "         [-1.2228e-01,  4.5952e-02, -2.7816e-02,  ..., -1.2839e-01,\n",
       "           8.2607e-02,  1.2701e-02]]], grad_fn=<ViewBackward0>)"
      ]
     },
     "execution_count": 4,
     "metadata": {},
     "output_type": "execute_result"
    }
   ],
   "source": [
    "output"
   ]
  },
  {
   "cell_type": "code",
   "execution_count": null,
   "id": "2f39a4d9-c200-4782-9424-4542cc371bc2",
   "metadata": {},
   "outputs": [],
   "source": []
  }
 ],
 "metadata": {
  "kernelspec": {
   "display_name": "Python 3 (ipykernel)",
   "language": "python",
   "name": "python3"
  },
  "language_info": {
   "codemirror_mode": {
    "name": "ipython",
    "version": 3
   },
   "file_extension": ".py",
   "mimetype": "text/x-python",
   "name": "python",
   "nbconvert_exporter": "python",
   "pygments_lexer": "ipython3",
   "version": "3.10.13"
  }
 },
 "nbformat": 4,
 "nbformat_minor": 5
}
