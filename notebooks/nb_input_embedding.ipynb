{
 "cells": [
  {
   "cell_type": "code",
   "execution_count": 4,
   "id": "e6bab802-9d0e-4895-a63e-1e10390f2c82",
   "metadata": {},
   "outputs": [
    {
     "name": "stdout",
     "output_type": "stream",
     "text": [
      "embedded_sequences: \n",
      " tensor([[[-2.4669, -1.4663, -3.0318,  0.9731, -1.4401],\n",
      "         [ 1.0001, -1.0064,  0.9187,  0.0520, -0.2884],\n",
      "         [ 0.1898, -2.0669, -3.1402, -4.4326, -5.0691],\n",
      "         [ 0.3342,  1.4100,  3.3130, -3.5725, -0.4990]],\n",
      "\n",
      "        [[ 0.7825, -1.2403,  0.4960, -3.2781, -1.1729],\n",
      "         [ 0.1905, -1.9146, -0.3152, -1.5233, -1.3796],\n",
      "         [-1.6197,  1.9475, -3.0855, -0.0831, -4.1646],\n",
      "         [-1.5256,  5.0461,  1.9744,  0.5724, -1.5268]]],\n",
      "       grad_fn=<MulBackward0>)\n",
      "embedded_sequences shape: \n",
      " torch.Size([2, 4, 5])\n"
     ]
    }
   ],
   "source": [
    "import sys\n",
    "sys.path.append('../')\n",
    "import torch\n",
    "from transformer.layer import InputEmbedding\n",
    "\n",
    "# Initiate parammeters\n",
    "vocab_size = 10\n",
    "d_model = 5\n",
    "\n",
    "# Create an instance of our InputEmbedding class\n",
    "input_embedding = InputEmbedding(vocab_size, d_model)\n",
    "\n",
    "# Suppose we have the following batch of 2 sequences \n",
    "# Each sequence has 4 words (sequence length of 4)\n",
    "# The numbers represent the index of the word in the vocabulary\n",
    "sequences = torch.tensor([[1, 2, 3, 4], [5, 6, 7, 8]])\n",
    "\n",
    "# Pass our sequences through the input embedding\n",
    "embedded_sequences = input_embedding(sequences)\n",
    "\n",
    "print(\"embedded_sequences: \\n\", embedded_sequences)\n",
    "print(\"embedded_sequences shape: \\n\", embedded_sequences.shape) "
   ]
  },
  {
   "cell_type": "code",
   "execution_count": 5,
   "id": "e1f6cad0-9c95-4f51-9d03-5d5f4c7be8d5",
   "metadata": {},
   "outputs": [
    {
     "data": {
      "text/plain": [
       "tensor([[1, 2, 3, 4],\n",
       "        [5, 6, 7, 8]])"
      ]
     },
     "execution_count": 5,
     "metadata": {},
     "output_type": "execute_result"
    }
   ],
   "source": [
    "sequences"
   ]
  },
  {
   "cell_type": "code",
   "execution_count": 6,
   "id": "e6b0d119-213e-4c6b-8677-f34196533578",
   "metadata": {},
   "outputs": [
    {
     "data": {
      "text/plain": [
       "torch.Size([2, 4])"
      ]
     },
     "execution_count": 6,
     "metadata": {},
     "output_type": "execute_result"
    }
   ],
   "source": [
    "sequences.shape"
   ]
  },
  {
   "cell_type": "code",
   "execution_count": null,
   "id": "b4c6622c-a917-48a9-a75f-7844493bd2d0",
   "metadata": {},
   "outputs": [],
   "source": []
  }
 ],
 "metadata": {
  "kernelspec": {
   "display_name": "Python 3 (ipykernel)",
   "language": "python",
   "name": "python3"
  },
  "language_info": {
   "codemirror_mode": {
    "name": "ipython",
    "version": 3
   },
   "file_extension": ".py",
   "mimetype": "text/x-python",
   "name": "python",
   "nbconvert_exporter": "python",
   "pygments_lexer": "ipython3",
   "version": "3.10.13"
  }
 },
 "nbformat": 4,
 "nbformat_minor": 5
}
