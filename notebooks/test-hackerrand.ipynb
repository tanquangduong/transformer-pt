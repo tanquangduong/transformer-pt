{
 "cells": [
  {
   "cell_type": "code",
   "execution_count": 40,
   "id": "e44d0aff-6592-43ed-8688-ecc44cc9fb03",
   "metadata": {},
   "outputs": [],
   "source": [
    "def getMaximumOfStrength(arr):\n",
    "    n = len(arr)\n",
    "    arr_original = arr\n",
    "    sum_list = []\n",
    "    arr_even = arr_original.copy()\n",
    "    for i in range(0,n, 2):\n",
    "        if i !=n-1:\n",
    "            if arr_even[i] > arr_even[i+1]:\n",
    "                arr_even[i], arr_even[i+1] = arr_even[i+1], arr_even[i]\n",
    "    strength = sum((i+1)*arr_even[i] for i in range(n))\n",
    "    sum_list.append(strength)\n",
    "    arr_odd = arr_original.copy()\n",
    "    for i in range(1,n, 2):\n",
    "        if i !=n-1:\n",
    "            if arr_odd[i] > arr_odd[i+1]:\n",
    "                arr_odd[i], arr_odd[i+1] = arr_odd[i+1], arr_odd[i]\n",
    "    strength = sum((i+1)*arr_odd[i] for i in range(n))\n",
    "    sum_list.append(strength)\n",
    "    return max(sum_list)"
   ]
  },
  {
   "cell_type": "code",
   "execution_count": 41,
   "id": "b01f92a8-026c-43d8-af20-a6669be44b06",
   "metadata": {},
   "outputs": [
    {
     "data": {
      "text/plain": [
       "66"
      ]
     },
     "execution_count": 41,
     "metadata": {},
     "output_type": "execute_result"
    }
   ],
   "source": [
    "arr=[1,9,7,3,2]\n",
    "getMaximumOfStrength(arr)"
   ]
  },
  {
   "cell_type": "code",
   "execution_count": 42,
   "id": "765dabd0-1a60-465f-a782-b59ae78b990c",
   "metadata": {},
   "outputs": [
    {
     "data": {
      "text/plain": [
       "30"
      ]
     },
     "execution_count": 42,
     "metadata": {},
     "output_type": "execute_result"
    }
   ],
   "source": [
    "arr=[2,1,4,3]\n",
    "getMaximumOfStrength(arr)"
   ]
  },
  {
   "cell_type": "code",
   "execution_count": null,
   "id": "bea6a379-593a-41eb-9dc8-317815d09f0c",
   "metadata": {},
   "outputs": [],
   "source": []
  }
 ],
 "metadata": {
  "kernelspec": {
   "display_name": "Python 3 (ipykernel)",
   "language": "python",
   "name": "python3"
  },
  "language_info": {
   "codemirror_mode": {
    "name": "ipython",
    "version": 3
   },
   "file_extension": ".py",
   "mimetype": "text/x-python",
   "name": "python",
   "nbconvert_exporter": "python",
   "pygments_lexer": "ipython3",
   "version": "3.10.13"
  }
 },
 "nbformat": 4,
 "nbformat_minor": 5
}
