{
 "cells": [
  {
   "cell_type": "code",
   "execution_count": 1,
   "id": "cbab6edc-4e4e-4aa1-aaa4-21e6c7f179dd",
   "metadata": {},
   "outputs": [
    {
     "name": "stdout",
     "output_type": "stream",
     "text": [
      "Initial input tensor: \n",
      " tensor([[[0.3991, 0.5521, 0.1004, 0.2844, 0.9998, 0.7077, 0.8031],\n",
      "         [0.2066, 0.3589, 0.8509, 0.8753, 0.4669, 0.6566, 0.6026],\n",
      "         [0.2785, 0.1350, 0.2257, 0.9548, 0.8214, 0.1386, 0.6055],\n",
      "         [0.2300, 0.7895, 0.4098, 0.0428, 0.4400, 0.2381, 0.4967]]])\n",
      "Output shape: \n",
      " torch.Size([1, 4, 15])\n",
      "Output: \n",
      " tensor([[[-0.5474,  0.0547,  0.2193,  0.0080,  0.1865,  0.1205,  0.1200,\n",
      "          -0.6923, -0.4050,  0.1643, -0.3949, -0.5581,  0.0202,  0.2528,\n",
      "           0.2960],\n",
      "         [-0.5039,  0.0607,  0.5225, -0.0152,  0.1299, -0.3839,  0.4868,\n",
      "          -0.9403, -0.2407, -0.0037, -0.3050, -0.6200, -0.4103,  0.2626,\n",
      "           0.6752],\n",
      "         [-0.2599, -0.1421,  0.3570, -0.0273,  0.1903, -0.1620,  0.3889,\n",
      "          -0.5720, -0.0762,  0.1286, -0.0481, -0.4370, -0.1393,  0.3817,\n",
      "           0.3163],\n",
      "         [-0.4932,  0.2404,  0.0696,  0.0317, -0.0961, -0.1244,  0.0382,\n",
      "          -0.7555, -0.5096,  0.1733, -0.5417, -0.4124, -0.0124,  0.2522,\n",
      "           0.2993]]], grad_fn=<ViewBackward0>)\n"
     ]
    }
   ],
   "source": [
    "import sys\n",
    "sys.path.append('../')\n",
    "import torch\n",
    "from transformer.layers import Projection\n",
    "\n",
    "# Define the dimensions and vocabulary size\n",
    "d_model = 7\n",
    "vocab_size = 15\n",
    "batch_size=1 \n",
    "seq_len=4\n",
    "\n",
    "# Create an instance of the Projection class\n",
    "projection = Projection(d_model, vocab_size)\n",
    "\n",
    "# Create a random tensor to represent a batch of sequences\n",
    "torch.manual_seed(68) # for reproducible result of random process\n",
    "x = torch.rand(batch_size, seq_len, d_model) \n",
    "\n",
    "# Pass the tensor through the projection\n",
    "output = projection(x)\n",
    "\n",
    "print(\"Initial input tensor: \\n\", x)\n",
    "print(\"Output shape: \\n\", output.shape)  # Should output: torch.Size([1, 4, 15])\n",
    "print(\"Output: \\n\", output)"
   ]
  },
  {
   "cell_type": "code",
   "execution_count": null,
   "id": "cc3a9fbf-d5a8-4ba2-a575-a3a509af08d7",
   "metadata": {},
   "outputs": [],
   "source": []
  }
 ],
 "metadata": {
  "kernelspec": {
   "display_name": "Python 3 (ipykernel)",
   "language": "python",
   "name": "python3"
  },
  "language_info": {
   "codemirror_mode": {
    "name": "ipython",
    "version": 3
   },
   "file_extension": ".py",
   "mimetype": "text/x-python",
   "name": "python",
   "nbconvert_exporter": "python",
   "pygments_lexer": "ipython3",
   "version": "3.10.13"
  }
 },
 "nbformat": 4,
 "nbformat_minor": 5
}
