{
 "cells": [
  {
   "cell_type": "code",
   "execution_count": 1,
   "id": "cbab6edc-4e4e-4aa1-aaa4-21e6c7f179dd",
   "metadata": {},
   "outputs": [
    {
     "name": "stdout",
     "output_type": "stream",
     "text": [
      "Initial input tensor: \n",
      " tensor([[[0.3991, 0.5521, 0.1004, 0.2844, 0.9998],\n",
      "         [0.7077, 0.8031, 0.2066, 0.3589, 0.8509],\n",
      "         [0.8753, 0.4669, 0.6566, 0.6026, 0.2785]]])\n",
      "Output: \n",
      " tensor([[[ 0.4128,  0.1334, -0.0707,  0.4416, -0.5225, -0.2484,  0.2042],\n",
      "         [ 0.3772,  0.2683,  0.0368,  0.6208, -0.4447, -0.1556,  0.1547],\n",
      "         [ 0.1082,  0.3192,  0.3710,  0.6760, -0.2436, -0.0495, -0.3724]]],\n",
      "       grad_fn=<ViewBackward0>)\n",
      "Output shape: \n",
      " torch.Size([1, 3, 7])\n"
     ]
    }
   ],
   "source": [
    "import sys\n",
    "sys.path.append('../')\n",
    "import torch\n",
    "from transformer.layer import Projection\n",
    "\n",
    "# Initiate configuration\n",
    "d_model = 5\n",
    "vocab_size = 7\n",
    "batch_size=1 \n",
    "seq_len=3\n",
    "\n",
    "# Create an instance of the Projection class\n",
    "projection = Projection(d_model, vocab_size)\n",
    "\n",
    "# Create a random tensor to represent a batch of sequences\n",
    "torch.manual_seed(68) # for reproducible result of random process\n",
    "x = torch.rand(batch_size, seq_len, d_model) \n",
    "\n",
    "# Pass the tensor through the projection\n",
    "output = projection(x)\n",
    "\n",
    "print(\"Initial input tensor: \\n\", x)\n",
    "print(\"Output: \\n\", output)\n",
    "print(\"Output shape: \\n\", output.shape) "
   ]
  },
  {
   "cell_type": "code",
   "execution_count": null,
   "id": "cc3a9fbf-d5a8-4ba2-a575-a3a509af08d7",
   "metadata": {},
   "outputs": [],
   "source": []
  }
 ],
 "metadata": {
  "kernelspec": {
   "display_name": "Python 3 (ipykernel)",
   "language": "python",
   "name": "python3"
  },
  "language_info": {
   "codemirror_mode": {
    "name": "ipython",
    "version": 3
   },
   "file_extension": ".py",
   "mimetype": "text/x-python",
   "name": "python",
   "nbconvert_exporter": "python",
   "pygments_lexer": "ipython3",
   "version": "3.10.13"
  }
 },
 "nbformat": 4,
 "nbformat_minor": 5
}
