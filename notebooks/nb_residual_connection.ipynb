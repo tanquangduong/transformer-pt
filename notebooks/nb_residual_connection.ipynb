{
 "cells": [
  {
   "cell_type": "code",
   "execution_count": 1,
   "id": "d87c0ba2-970f-4c65-a1a4-4d3696f382e4",
   "metadata": {},
   "outputs": [],
   "source": [
    "import sys\n",
    "sys.path.append('../')\n",
    "import torch\n",
    "import torch.nn as nn\n",
    "import math\n",
    "from transformer.layers import FeedForward, LayerNorm, ResidualConnection"
   ]
  },
  {
   "cell_type": "code",
   "execution_count": 2,
   "id": "eb3f5655-60d5-49c6-9ad1-78a702323765",
   "metadata": {},
   "outputs": [
    {
     "name": "stdout",
     "output_type": "stream",
     "text": [
      "torch.Size([10, 20, 512])\n"
     ]
    }
   ],
   "source": [
    "# Define the dimensions and dropout rate\n",
    "d_model = 512\n",
    "dropout = 0.1\n",
    "\n",
    "# Create an instance of the ResidualConnection and FeedForward classes\n",
    "residual_connection = ResidualConnection(d_model, dropout)\n",
    "feed_forward = FeedForward(d_model, d_ff=2048, dropout=dropout)\n",
    "\n",
    "# Create a random tensor to represent a batch of sequences\n",
    "x = torch.rand(10, 20, d_model)  # batch_size=10, seq_len=20, d_model=512\n",
    "\n",
    "# Pass the tensor through the residual connection with feed forward as the sublayer\n",
    "output = residual_connection(x, feed_forward)\n",
    "\n",
    "print(output.shape)  # Should print: torch.Size([10, 20, 512])"
   ]
  },
  {
   "cell_type": "code",
   "execution_count": 3,
   "id": "0c91f034-baf6-47b6-86cb-5c6d02efc6f4",
   "metadata": {},
   "outputs": [
    {
     "data": {
      "text/plain": [
       "tensor([[[ 0.1086,  0.0442, -0.0744,  ...,  0.3919,  1.0469, -0.1102],\n",
       "         [ 1.2753,  0.7525,  0.5825,  ...,  0.6814,  0.8107,  0.5765],\n",
       "         [ 0.6733,  0.0457, -0.1670,  ...,  0.7080,  0.3513, -0.3403],\n",
       "         ...,\n",
       "         [ 0.3904,  0.7685,  0.0584,  ...,  1.0460,  0.2928,  0.4128],\n",
       "         [ 0.0041,  1.1120,  0.0472,  ..., -0.1477,  0.4967,  0.1021],\n",
       "         [ 0.6345,  1.0233,  0.0471,  ...,  0.6282,  0.2798,  0.2273]],\n",
       "\n",
       "        [[ 0.2261, -0.1767,  0.4095,  ...,  0.9002,  0.3699,  0.0819],\n",
       "         [ 0.6347,  0.1179,  0.8436,  ...,  0.4579,  0.5958,  0.7678],\n",
       "         [ 0.3912,  0.8078,  0.4853,  ...,  0.8411,  0.4295,  0.1620],\n",
       "         ...,\n",
       "         [ 0.3357,  0.6795,  0.4087,  ...,  0.9938,  1.2976, -0.2170],\n",
       "         [ 0.3339, -0.0155,  0.3385,  ..., -0.0285,  0.5551, -0.2903],\n",
       "         [ 0.6617,  0.9357,  0.2783,  ...,  0.7985,  1.0128,  0.0830]],\n",
       "\n",
       "        [[ 0.1565,  0.5517,  0.8695,  ...,  0.3278,  0.1454,  0.9183],\n",
       "         [ 0.6177,  0.7501,  0.6968,  ...,  0.8506,  0.5037,  0.1868],\n",
       "         [ 0.3925,  0.5565,  0.1704,  ...,  0.9821,  0.6014, -0.1922],\n",
       "         ...,\n",
       "         [-0.1688,  0.4780,  0.0563,  ...,  0.2906,  1.2093,  0.7446],\n",
       "         [ 0.6950,  0.3206,  0.7388,  ...,  0.4683,  1.1451,  0.4670],\n",
       "         [ 0.0147,  0.4750,  0.1607,  ...,  0.9029,  0.3671,  0.3944]],\n",
       "\n",
       "        ...,\n",
       "\n",
       "        [[ 0.2889,  0.6315,  0.7011,  ...,  0.6804,  0.2085,  0.5263],\n",
       "         [ 0.3251,  0.3967, -0.0218,  ...,  1.1058,  0.3825,  0.2064],\n",
       "         [-0.0739,  0.5702,  0.6097,  ...,  0.5705,  0.1680,  0.7610],\n",
       "         ...,\n",
       "         [ 0.1705, -0.1324,  0.6785,  ...,  0.7226, -0.1289,  0.8685],\n",
       "         [ 1.1628,  0.5865,  0.3916,  ...,  0.3975, -0.0076,  0.6058],\n",
       "         [ 0.3503,  0.7194,  0.2789,  ...,  1.1992,  0.9988,  0.0395]],\n",
       "\n",
       "        [[ 0.5746,  0.7438,  0.6764,  ...,  0.6450,  0.9603,  0.4646],\n",
       "         [ 0.3991,  0.6212,  0.6779,  ...,  0.9460,  0.4553, -0.2632],\n",
       "         [ 0.4814,  0.2820,  0.1009,  ...,  0.2695,  0.8476,  0.3919],\n",
       "         ...,\n",
       "         [ 0.0241,  0.9539,  0.6303,  ...,  0.6192,  0.6407,  0.1149],\n",
       "         [ 0.4055,  0.9291,  0.1044,  ...,  0.4167,  0.1590,  0.2867],\n",
       "         [ 1.0536,  0.0419, -0.1807,  ...,  0.3324,  0.8709, -0.1456]],\n",
       "\n",
       "        [[ 0.5687,  0.3221,  0.1131,  ...,  0.6983,  1.2485, -0.2967],\n",
       "         [ 0.6923,  0.7537,  0.5791,  ...,  0.8222,  0.3126, -0.4673],\n",
       "         [ 0.8602,  0.4092,  0.2583,  ...,  0.1492,  1.0645,  0.2499],\n",
       "         ...,\n",
       "         [ 0.2960,  1.2070,  0.4007,  ...,  0.9410,  0.6997,  0.7610],\n",
       "         [ 0.6852,  0.4551,  0.2625,  ...,  1.0375,  0.6672, -0.2086],\n",
       "         [ 0.4670,  0.4171,  0.7335,  ...,  0.4822,  0.7523,  0.9138]]],\n",
       "       grad_fn=<AddBackward0>)"
      ]
     },
     "execution_count": 3,
     "metadata": {},
     "output_type": "execute_result"
    }
   ],
   "source": [
    "output"
   ]
  },
  {
   "cell_type": "code",
   "execution_count": null,
   "id": "0237d3ff-d83b-47c7-9948-df15eec26733",
   "metadata": {},
   "outputs": [],
   "source": []
  }
 ],
 "metadata": {
  "kernelspec": {
   "display_name": "Python 3 (ipykernel)",
   "language": "python",
   "name": "python3"
  },
  "language_info": {
   "codemirror_mode": {
    "name": "ipython",
    "version": 3
   },
   "file_extension": ".py",
   "mimetype": "text/x-python",
   "name": "python",
   "nbconvert_exporter": "python",
   "pygments_lexer": "ipython3",
   "version": "3.10.13"
  }
 },
 "nbformat": 4,
 "nbformat_minor": 5
}
