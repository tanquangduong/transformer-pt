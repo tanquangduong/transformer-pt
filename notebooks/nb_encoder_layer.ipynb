{
 "cells": [
  {
   "cell_type": "code",
   "execution_count": 4,
   "id": "8ea1b674-c550-4985-aded-cffdd4a0c0fc",
   "metadata": {},
   "outputs": [
    {
     "name": "stdout",
     "output_type": "stream",
     "text": [
      "Initial input tensor: \n",
      " tensor([[[0.3991, 0.5521, 0.1004, 0.2844, 0.9998, 0.7077, 0.8031],\n",
      "         [0.2066, 0.3589, 0.8509, 0.8753, 0.4669, 0.6566, 0.6026],\n",
      "         [0.2785, 0.1350, 0.2257, 0.9548, 0.8214, 0.1386, 0.6055],\n",
      "         [0.2300, 0.7895, 0.4098, 0.0428, 0.4400, 0.2381, 0.4967]]])\n",
      "Output's shape: \n",
      " torch.Size([1, 4, 7])\n",
      "Output: \n",
      " tensor([[[-0.2203,  0.2398, -0.0214,  0.5136,  1.0576,  0.1782,  0.9693],\n",
      "         [ 0.6216,  0.1951,  0.3656,  0.7347,  0.6968,  0.4106,  0.6728],\n",
      "         [ 0.3728,  0.1653, -0.5884,  1.1858,  0.9430, -0.0743,  0.6148],\n",
      "         [ 0.0200,  0.4668,  0.3478, -0.3776,  0.4105, -0.3440,  0.5031]]],\n",
      "       grad_fn=<AddBackward0>)\n"
     ]
    }
   ],
   "source": [
    "import sys\n",
    "sys.path.append('../')\n",
    "import torch\n",
    "import torch.nn as nn\n",
    "from transformer.layers import FeedForward, MultiHeadAttention, ResidualConnection\n",
    "from transformer.encoder import EncoderLayer\n",
    "\n",
    "# Define config\n",
    "d_model = 7 # feature dimension\n",
    "d_ff = 2048 # feed forward dimesion\n",
    "h =  1 # number of heads\n",
    "batch_size = 1 # batch_size\n",
    "seq_len = 4 # sequence length\n",
    "dropout = 0.1 # dropout ratio\n",
    "\n",
    "# Create an instance of the MultiHeadAttention and FeedForward classes\n",
    "self_attention_engine = MultiHeadAttention(d_model, h, dropout)\n",
    "feed_forward = FeedForward(d_model, d_ff, dropout)  \n",
    "\n",
    "# Create an instance of the EncoderLayer class\n",
    "encoder_layer = EncoderLayer(d_model, self_attention_engine, feed_forward, dropout)\n",
    "\n",
    "# Create a random tensor to represent a batch of sequences\n",
    "torch.manual_seed(68) # for reproducible result of random process\n",
    "x = torch.rand(batch_size, seq_len, d_model)  \n",
    "\n",
    "# Pass the tensor through the encoder layer\n",
    "output = encoder_layer(x)\n",
    "\n",
    "print(\"Initial input tensor: \\n\", x)\n",
    "print(\"Output's shape: \\n\", output.shape)  \n",
    "print(\"Output: \\n\", output)  "
   ]
  },
  {
   "cell_type": "code",
   "execution_count": null,
   "id": "bc4f6f6e-af12-4a0c-a0dd-6372c568cb39",
   "metadata": {},
   "outputs": [],
   "source": []
  }
 ],
 "metadata": {
  "kernelspec": {
   "display_name": "Python 3 (ipykernel)",
   "language": "python",
   "name": "python3"
  },
  "language_info": {
   "codemirror_mode": {
    "name": "ipython",
    "version": 3
   },
   "file_extension": ".py",
   "mimetype": "text/x-python",
   "name": "python",
   "nbconvert_exporter": "python",
   "pygments_lexer": "ipython3",
   "version": "3.10.13"
  }
 },
 "nbformat": 4,
 "nbformat_minor": 5
}
