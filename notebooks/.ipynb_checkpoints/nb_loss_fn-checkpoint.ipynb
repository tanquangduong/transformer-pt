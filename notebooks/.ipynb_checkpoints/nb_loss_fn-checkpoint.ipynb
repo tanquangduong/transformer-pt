{
 "cells": [
  {
   "cell_type": "code",
   "execution_count": 2,
   "id": "9229a5f2-562e-4f53-9671-22ae8bb53321",
   "metadata": {},
   "outputs": [
    {
     "name": "stdout",
     "output_type": "stream",
     "text": [
      "output: \n",
      " tensor([[-0.6377,  0.7509,  0.3260, -0.8004,  0.8127],\n",
      "        [-0.6685, -1.6276,  0.8615, -0.2605,  1.0766],\n",
      "        [ 0.3043, -0.9517, -1.0953,  0.2755,  0.6838],\n",
      "        [ 0.5590, -0.1398,  0.0232,  0.6718, -0.6836]])\n",
      "target: \n",
      " tensor([1, 2, 3, 1])\n",
      "loss: \n",
      " tensor(1.4373)\n"
     ]
    }
   ],
   "source": [
    "import torch\n",
    "import torch.nn as nn\n",
    "\n",
    "# Assume we have a vocabulary of size 5 and two samples in a batch\n",
    "vocab_size_tgt = 5\n",
    "batch_size = 1\n",
    "seq_len = 4\n",
    "\n",
    "# Create example tensors of  projection_output and decoder_target\n",
    "torch.manual_seed(68) # for reproducible result of random process\n",
    "projection_output = torch.randn(batch_size, seq_len, vocab_size_tgt)  # size: (batch_size, seq_len, vocab_size)\n",
    "decoder_target = torch.tensor([[1, 2, 3, 1]])  # size: (batch_size, seq_len)\n",
    "\n",
    "# Assume the ID of the [PAD] token is 0\n",
    "pad_id = 0\n",
    "\n",
    "# Initialize loss function\n",
    "loss_function = nn.CrossEntropyLoss(ignore_index=pad_id, label_smoothing=0.1)\n",
    "\n",
    "# Calculate loss\n",
    "output = projection_output.view(-1, vocab_size_tgt)\n",
    "target = decoder_target.view(-1)\n",
    "loss = loss_function(output, target)\n",
    "\n",
    "# Print loss\n",
    "print(\"output: \\n\", output)\n",
    "print(\"target: \\n\", target)\n",
    "print(\"loss: \\n\", loss)"
   ]
  },
  {
   "cell_type": "markdown",
   "id": "773e7513-decb-4ec4-a1b9-7627688c23a4",
   "metadata": {},
   "source": [
    "## Simple example"
   ]
  },
  {
   "cell_type": "code",
   "execution_count": 1,
   "id": "df930e3f-238d-4e18-a9af-37e17adce479",
   "metadata": {},
   "outputs": [
    {
     "name": "stdout",
     "output_type": "stream",
     "text": [
      "tensor(0.7288)\n"
     ]
    }
   ],
   "source": [
    "import torch\n",
    "import torch.nn as nn\n",
    "\n",
    "# Define the loss function\n",
    "loss_fn = nn.CrossEntropyLoss()\n",
    "\n",
    "# Suppose we have output from our model for 3 classes\n",
    "# and we have a batch size of 2\n",
    "# Each row corresponds to a single sample\n",
    "# Each column corresponds to a class\n",
    "output = torch.tensor([[0.1, 0.2, 0.7], [0.8, 0.1, 0.1]])\n",
    "\n",
    "# These are our true labels\n",
    "# Each element corresponds to a single sample\n",
    "target = torch.tensor([2, 0])\n",
    "\n",
    "# Compute the loss\n",
    "loss = loss_fn(output, target)\n",
    "\n",
    "print(loss)"
   ]
  },
  {
   "cell_type": "code",
   "execution_count": 2,
   "id": "79032c11-8f7d-4155-9ee4-172d0d97f779",
   "metadata": {},
   "outputs": [
    {
     "name": "stdout",
     "output_type": "stream",
     "text": [
      "0.35667494393873245\n"
     ]
    }
   ],
   "source": [
    "import numpy as np\n",
    "\n",
    "# True distribution\n",
    "y_true = np.array([0, 1])\n",
    "\n",
    "# Predicted probabilities\n",
    "y_pred = np.array([0.3, 0.7])\n",
    "\n",
    "# Cross-entropy loss\n",
    "loss = -np.sum(y_true * np.log(y_pred))\n",
    "print(loss)"
   ]
  },
  {
   "cell_type": "code",
   "execution_count": 5,
   "id": "31b6a98a-9068-4c8b-85c2-33652a35df42",
   "metadata": {},
   "outputs": [
    {
     "data": {
      "text/plain": [
       "0.5798184952529422"
      ]
     },
     "execution_count": 5,
     "metadata": {},
     "output_type": "execute_result"
    }
   ],
   "source": [
    "-np.log(0.7) - np.log(0.8)"
   ]
  },
  {
   "cell_type": "code",
   "execution_count": 6,
   "id": "d9a9077b-36a9-4216-bcb4-978c32fa7c2b",
   "metadata": {},
   "outputs": [
    {
     "name": "stdout",
     "output_type": "stream",
     "text": [
      "tensor(0.7288)\n"
     ]
    }
   ],
   "source": [
    "import torch\n",
    "import torch.nn.functional as F\n",
    "\n",
    "# Suppose we have output from our model for 3 classes\n",
    "# and we have a batch size of 2\n",
    "# Each row corresponds to a single sample\n",
    "# Each column corresponds to a class\n",
    "output = torch.tensor([[0.1, 0.2, 0.7], [0.8, 0.1, 0.1]])\n",
    "\n",
    "# These are our true labels\n",
    "# Each element corresponds to a single sample\n",
    "target = torch.tensor([2, 0])\n",
    "\n",
    "# Apply softmax to the output to get probabilities\n",
    "probabilities = F.softmax(output, dim=1)\n",
    "\n",
    "# Select the probabilities corresponding to the true classes\n",
    "selected_probabilities = probabilities[range(len(target)), target]\n",
    "\n",
    "# Compute the negative log likelihood loss\n",
    "manual_loss = -torch.log(selected_probabilities).mean()\n",
    "\n",
    "print(manual_loss)"
   ]
  },
  {
   "cell_type": "code",
   "execution_count": 7,
   "id": "efb0273a-c598-43ef-8707-42df393822e9",
   "metadata": {},
   "outputs": [
    {
     "data": {
      "text/plain": [
       "tensor([[0.2546, 0.2814, 0.4640],\n",
       "        [0.5017, 0.2491, 0.2491]])"
      ]
     },
     "execution_count": 7,
     "metadata": {},
     "output_type": "execute_result"
    }
   ],
   "source": [
    "probabilities"
   ]
  },
  {
   "cell_type": "code",
   "execution_count": 8,
   "id": "8efd085c-71e1-4004-b63a-924a21464aa6",
   "metadata": {},
   "outputs": [
    {
     "data": {
      "text/plain": [
       "tensor([0.4640, 0.5017])"
      ]
     },
     "execution_count": 8,
     "metadata": {},
     "output_type": "execute_result"
    }
   ],
   "source": [
    "selected_probabilities"
   ]
  },
  {
   "cell_type": "code",
   "execution_count": 10,
   "id": "5f00ce0d-a9fb-4f6e-b17a-b87527abedc1",
   "metadata": {},
   "outputs": [
    {
     "data": {
      "text/plain": [
       "range(0, 2)"
      ]
     },
     "execution_count": 10,
     "metadata": {},
     "output_type": "execute_result"
    }
   ],
   "source": [
    "range(len(target))"
   ]
  },
  {
   "cell_type": "code",
   "execution_count": 11,
   "id": "88b35153-041a-4abd-91c6-e98f698756e2",
   "metadata": {},
   "outputs": [
    {
     "data": {
      "text/plain": [
       "tensor([2, 0])"
      ]
     },
     "execution_count": 11,
     "metadata": {},
     "output_type": "execute_result"
    }
   ],
   "source": [
    "target"
   ]
  },
  {
   "cell_type": "code",
   "execution_count": 13,
   "id": "79ca00dc-0cdd-41dd-864b-6132319c9263",
   "metadata": {},
   "outputs": [
    {
     "data": {
      "text/plain": [
       "0.7288118371239057"
      ]
     },
     "execution_count": 13,
     "metadata": {},
     "output_type": "execute_result"
    }
   ],
   "source": [
    "(-np.log(0.4640) - np.log(0.5017))/2"
   ]
  },
  {
   "cell_type": "code",
   "execution_count": null,
   "id": "f772dcbf-539b-4703-9f32-9797fa9a8326",
   "metadata": {},
   "outputs": [],
   "source": []
  }
 ],
 "metadata": {
  "kernelspec": {
   "display_name": "Python 3 (ipykernel)",
   "language": "python",
   "name": "python3"
  },
  "language_info": {
   "codemirror_mode": {
    "name": "ipython",
    "version": 3
   },
   "file_extension": ".py",
   "mimetype": "text/x-python",
   "name": "python",
   "nbconvert_exporter": "python",
   "pygments_lexer": "ipython3",
   "version": "3.10.13"
  }
 },
 "nbformat": 4,
 "nbformat_minor": 5
}
