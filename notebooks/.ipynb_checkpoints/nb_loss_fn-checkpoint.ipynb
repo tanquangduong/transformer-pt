{
 "cells": [
  {
   "cell_type": "code",
   "execution_count": 1,
   "id": "151dc6a2-d509-4636-9faf-4f56d596a1b1",
   "metadata": {},
   "outputs": [],
   "source": [
    "import torch\n",
    "import torch.nn as nn"
   ]
  },
  {
   "cell_type": "code",
   "execution_count": 12,
   "id": "b7b0bc1d-b2a9-4312-b0fe-307deb2759c8",
   "metadata": {},
   "outputs": [
    {
     "name": "stdout",
     "output_type": "stream",
     "text": [
      "loss:  tensor(1.6051)\n"
     ]
    }
   ],
   "source": [
    "# Assume the following values\n",
    "batch_size = 2\n",
    "seq_len = 3\n",
    "vocab_size_tgt = 5  # target vocabulary size\n",
    "\n",
    "# Assume the following decoder output\n",
    "projection_output = torch.rand(batch_size, seq_len, vocab_size_tgt)\n",
    "\n",
    "# Assume the following target sequences\n",
    "decoder_target = torch.randint(vocab_size_tgt, (batch_size, seq_len))\n",
    "\n",
    "# Assume we're using cross entropy loss\n",
    "loss_fn = nn.CrossEntropyLoss()\n",
    "\n",
    "# Calculate the loss\n",
    "loss = loss_fn(projection_output.view(-1, vocab_size_tgt), decoder_target.view(-1))\n",
    "\n",
    "print(\"loss: \", loss)"
   ]
  },
  {
   "cell_type": "code",
   "execution_count": 13,
   "id": "eb7e027a-cdb9-4ee5-8bb9-06f57228b68b",
   "metadata": {},
   "outputs": [
    {
     "name": "stdout",
     "output_type": "stream",
     "text": [
      "decoder_target: tensor([[0, 4, 3],\n",
      "        [0, 4, 1]])\n",
      "decoder_target shape: torch.Size([2, 3])\n"
     ]
    }
   ],
   "source": [
    "decoder_target\n",
    "print('decoder_target:', decoder_target)\n",
    "print('decoder_target shape:', decoder_target.shape)"
   ]
  },
  {
   "cell_type": "code",
   "execution_count": 14,
   "id": "ce004127-e3cb-4a1a-89fb-06e609845c45",
   "metadata": {},
   "outputs": [
    {
     "name": "stdout",
     "output_type": "stream",
     "text": [
      "projection_output: tensor([[[0.2961, 0.6364, 0.5462, 0.5547, 0.3706],\n",
      "         [0.9859, 0.4371, 0.1641, 0.6186, 0.7525],\n",
      "         [0.1768, 0.2514, 0.5475, 0.3691, 0.9329]],\n",
      "\n",
      "        [[0.9764, 0.4621, 0.5022, 0.2054, 0.8579],\n",
      "         [0.0921, 0.8275, 0.8045, 0.4645, 0.9522],\n",
      "         [0.5204, 0.0408, 0.4006, 0.5621, 0.5645]]])\n",
      "projection_output shape: torch.Size([2, 3, 5])\n"
     ]
    }
   ],
   "source": [
    "projection_output\n",
    "print('projection_output:', projection_output)\n",
    "print('projection_output shape:', projection_output.shape)"
   ]
  },
  {
   "cell_type": "code",
   "execution_count": null,
   "id": "9229a5f2-562e-4f53-9671-22ae8bb53321",
   "metadata": {},
   "outputs": [],
   "source": []
  }
 ],
 "metadata": {
  "kernelspec": {
   "display_name": "Python 3 (ipykernel)",
   "language": "python",
   "name": "python3"
  },
  "language_info": {
   "codemirror_mode": {
    "name": "ipython",
    "version": 3
   },
   "file_extension": ".py",
   "mimetype": "text/x-python",
   "name": "python",
   "nbconvert_exporter": "python",
   "pygments_lexer": "ipython3",
   "version": "3.10.13"
  }
 },
 "nbformat": 4,
 "nbformat_minor": 5
}
