{
 "cells": [
  {
   "cell_type": "code",
   "execution_count": 12,
   "id": "9229a5f2-562e-4f53-9671-22ae8bb53321",
   "metadata": {},
   "outputs": [
    {
     "name": "stdout",
     "output_type": "stream",
     "text": [
      "tensor(1.8712)\n"
     ]
    }
   ],
   "source": [
    "import torch\n",
    "import torch.nn as nn\n",
    "\n",
    "# Assume we have a vocabulary of size 5 and two samples in a batch\n",
    "vocab_size_tgt = 5\n",
    "batch_size = 2\n",
    "seq_len = 4\n",
    "\n",
    "# Create example tensors of  projection_output and decoder_target\n",
    "torch.manual_seed(68) # for reproducible result of random process\n",
    "projection_output = torch.randn(batch_size, seq_len, vocab_size_tgt)  # size: (batch_size, seq_len, vocab_size)\n",
    "decoder_target = torch.tensor([[1, 2, 3, 1], [0, 2, 1, 3]])  # size: (batch_size, seq_len)\n",
    "\n",
    "# Assume the ID of the [PAD] token is 0\n",
    "pad_id = 0\n",
    "\n",
    "# Initialize loss function\n",
    "loss_function = nn.CrossEntropyLoss(ignore_index=pad_id, label_smoothing=0.1)\n",
    "\n",
    "# Calculate loss\n",
    "loss = loss_function(projection_output.view(-1, vocab_size_tgt), decoder_target.view(-1))\n",
    "print(loss)"
   ]
  },
  {
   "cell_type": "code",
   "execution_count": null,
   "id": "df930e3f-238d-4e18-a9af-37e17adce479",
   "metadata": {},
   "outputs": [],
   "source": []
  }
 ],
 "metadata": {
  "kernelspec": {
   "display_name": "Python 3 (ipykernel)",
   "language": "python",
   "name": "python3"
  },
  "language_info": {
   "codemirror_mode": {
    "name": "ipython",
    "version": 3
   },
   "file_extension": ".py",
   "mimetype": "text/x-python",
   "name": "python",
   "nbconvert_exporter": "python",
   "pygments_lexer": "ipython3",
   "version": "3.10.13"
  }
 },
 "nbformat": 4,
 "nbformat_minor": 5
}
