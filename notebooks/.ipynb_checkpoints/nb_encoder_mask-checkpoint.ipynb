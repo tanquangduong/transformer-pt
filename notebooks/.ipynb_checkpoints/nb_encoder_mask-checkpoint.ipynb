{
 "cells": [
  {
   "cell_type": "code",
   "execution_count": 4,
   "id": "82f03e82-85d4-4381-b7c3-a5a41fa49e69",
   "metadata": {},
   "outputs": [
    {
     "name": "stdout",
     "output_type": "stream",
     "text": [
      "encoder_input: tensor([ 2, 68, 72, 96,  3,  0,  0])\n",
      "encoder_mask: tensor([[[1, 1, 1, 1, 1, 0, 0]]], dtype=torch.int32)\n",
      "encoder_mask shape: torch.Size([1, 1, 7])\n"
     ]
    }
   ],
   "source": [
    "import torch\n",
    "\n",
    "encoder_token_ids = torch.tensor([68, 72, 96])\n",
    "sos_token_id = torch.tensor([2])\n",
    "eos_token_id = torch.tensor([3])\n",
    "pad_token_id = torch.tensor([0])\n",
    "encoder_padding_num = 2\n",
    "\n",
    "encoder_input = torch.cat(\n",
    "    [\n",
    "        sos_token_id,\n",
    "        encoder_token_ids,\n",
    "        eos_token_id,\n",
    "        pad_token_id.repeat(encoder_padding_num),\n",
    "    ]\n",
    ")\n",
    "\n",
    "print(\"encoder_input:\", encoder_input)\n",
    "\n",
    "encoder_mask = (encoder_input != pad_token_id).unsqueeze(0).unsqueeze(0).int()\n",
    "print(\"encoder_mask:\", encoder_mask)\n",
    "print(\"encoder_mask shape:\", encoder_mask.shape)"
   ]
  },
  {
   "cell_type": "code",
   "execution_count": null,
   "id": "866fd18d-5e06-4e30-9d59-5a7ac8341245",
   "metadata": {},
   "outputs": [],
   "source": []
  }
 ],
 "metadata": {
  "kernelspec": {
   "display_name": "Python 3 (ipykernel)",
   "language": "python",
   "name": "python3"
  },
  "language_info": {
   "codemirror_mode": {
    "name": "ipython",
    "version": 3
   },
   "file_extension": ".py",
   "mimetype": "text/x-python",
   "name": "python",
   "nbconvert_exporter": "python",
   "pygments_lexer": "ipython3",
   "version": "3.10.13"
  }
 },
 "nbformat": 4,
 "nbformat_minor": 5
}
