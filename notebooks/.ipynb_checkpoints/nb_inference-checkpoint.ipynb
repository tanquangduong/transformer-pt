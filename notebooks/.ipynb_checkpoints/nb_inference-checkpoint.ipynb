{
 "cells": [
  {
   "cell_type": "code",
   "execution_count": 4,
   "id": "94e6d4a1-6e7a-4a32-a496-a54dd65c11ba",
   "metadata": {},
   "outputs": [
    {
     "name": "stdout",
     "output_type": "stream",
     "text": [
      "Using cuda device\n"
     ]
    }
   ],
   "source": [
    "import sys\n",
    "sys.path.append('../')\n",
    "import torch\n",
    "from transformer.utils import create_tranformer_model\n",
    "from transformer.utils import load_config, get_dataset, get_tokenizer\n",
    "\n",
    "## Get Config, dataset, tokenizers\n",
    "config_file_path = \"../config.json\"\n",
    "config = load_config(config_file_path)\n",
    "dataset = get_dataset(config)\n",
    "tokenizer_src = get_tokenizer(config, dataset, config['language_source'])\n",
    "tokenizer_tgt = get_tokenizer(config, dataset, config['language_target'])\n",
    "# Assign the device for computation (GPU if available, else CPU)\n",
    "device = torch.device(\"cuda\" if torch.cuda.is_available() else \"cpu\")\n",
    "print(f\"Using {device} device\")"
   ]
  },
  {
   "cell_type": "code",
   "execution_count": 5,
   "id": "0780934a-2bb7-4daa-8ae4-116dedb2c86b",
   "metadata": {},
   "outputs": [],
   "source": [
    "vocab_size_src = 10000\n",
    "vocab_size_tgt = 10000"
   ]
  },
  {
   "cell_type": "code",
   "execution_count": 6,
   "id": "491bd28d-5e43-40e4-9668-60b77dfbda7e",
   "metadata": {},
   "outputs": [],
   "source": [
    "# Create the Transformer model\n",
    "model = create_tranformer_model(config, vocab_size_src, vocab_size_tgt).to(device)"
   ]
  },
  {
   "cell_type": "code",
   "execution_count": 7,
   "id": "902743b1-ae2d-4e09-b9ca-84a49420fedc",
   "metadata": {},
   "outputs": [],
   "source": [
    "from transformer.utils import get_checkpoint_path"
   ]
  },
  {
   "cell_type": "code",
   "execution_count": 8,
   "id": "89ae12a3-1b7d-48aa-92bb-ba2c63e7c915",
   "metadata": {},
   "outputs": [
    {
     "ename": "FileNotFoundError",
     "evalue": "[WinError 3] The system cannot find the path specified: 'models'",
     "output_type": "error",
     "traceback": [
      "\u001b[1;31m---------------------------------------------------------------------------\u001b[0m",
      "\u001b[1;31mFileNotFoundError\u001b[0m                         Traceback (most recent call last)",
      "Cell \u001b[1;32mIn[8], line 1\u001b[0m\n\u001b[1;32m----> 1\u001b[0m \u001b[43mget_checkpoint_path\u001b[49m\u001b[43m(\u001b[49m\u001b[43mconfig\u001b[49m\u001b[43m)\u001b[49m\n",
      "File \u001b[1;32mC:\\quangduong\\transformer-pt\\notebooks\\..\\transformer\\utils.py:367\u001b[0m, in \u001b[0;36mget_checkpoint_path\u001b[1;34m(config)\u001b[0m\n\u001b[0;32m    364\u001b[0m model_dir \u001b[38;5;241m=\u001b[39m config[\u001b[38;5;124m\"\u001b[39m\u001b[38;5;124mmodel_dir\u001b[39m\u001b[38;5;124m\"\u001b[39m]\n\u001b[0;32m    366\u001b[0m \u001b[38;5;66;03m# List all files in the model directory and sort them\u001b[39;00m\n\u001b[1;32m--> 367\u001b[0m checkpoints \u001b[38;5;241m=\u001b[39m \u001b[43mos\u001b[49m\u001b[38;5;241;43m.\u001b[39;49m\u001b[43mlistdir\u001b[49m\u001b[43m(\u001b[49m\u001b[43mmodel_dir\u001b[49m\u001b[43m)\u001b[49m\n\u001b[0;32m    368\u001b[0m checkpoints\u001b[38;5;241m.\u001b[39msort()\n\u001b[0;32m    370\u001b[0m \u001b[38;5;66;03m# If there are no checkpoints, issue a warning and return None\u001b[39;00m\n",
      "\u001b[1;31mFileNotFoundError\u001b[0m: [WinError 3] The system cannot find the path specified: 'models'"
     ]
    }
   ],
   "source": [
    "get_checkpoint_path(config)"
   ]
  },
  {
   "cell_type": "code",
   "execution_count": null,
   "id": "39e91e9d-879b-458f-b7f7-4f2e52fe09ab",
   "metadata": {},
   "outputs": [],
   "source": []
  }
 ],
 "metadata": {
  "kernelspec": {
   "display_name": "Python 3 (ipykernel)",
   "language": "python",
   "name": "python3"
  },
  "language_info": {
   "codemirror_mode": {
    "name": "ipython",
    "version": 3
   },
   "file_extension": ".py",
   "mimetype": "text/x-python",
   "name": "python",
   "nbconvert_exporter": "python",
   "pygments_lexer": "ipython3",
   "version": "3.10.13"
  }
 },
 "nbformat": 4,
 "nbformat_minor": 5
}
