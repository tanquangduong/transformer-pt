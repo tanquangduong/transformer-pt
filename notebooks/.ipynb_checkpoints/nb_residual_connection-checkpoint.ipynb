{
 "cells": [
  {
   "cell_type": "code",
   "execution_count": 11,
   "id": "f5e80509-6bbd-477e-9950-a50c55b8a25a",
   "metadata": {},
   "outputs": [
    {
     "name": "stdout",
     "output_type": "stream",
     "text": [
      "Initial input tensor: \n",
      " tensor([[[0.3991, 0.5521, 0.1004, 0.2844, 0.9998, 0.7077, 0.8031],\n",
      "         [0.2066, 0.3589, 0.8509, 0.8753, 0.4669, 0.6566, 0.6026],\n",
      "         [0.2785, 0.1350, 0.2257, 0.9548, 0.8214, 0.1386, 0.6055],\n",
      "         [0.2300, 0.7895, 0.4098, 0.0428, 0.4400, 0.2381, 0.4967]]])\n",
      "Output shape: \n",
      " torch.Size([1, 4, 7])\n",
      "Output: \n",
      " tensor([[[ 0.0031,  0.5521, -0.2301, -0.0687,  1.1065,  1.1342,  1.1541],\n",
      "         [-0.0518, -0.1740,  0.8509,  0.7773,  0.6255,  0.3877,  0.4974],\n",
      "         [ 0.0839,  0.5515, -0.4758,  1.0771,  0.8214,  0.0778,  0.7037],\n",
      "         [-0.2594,  0.7204, -0.0517, -0.2598,  0.5658,  0.6144,  0.4215]]],\n",
      "       grad_fn=<AddBackward0>)\n"
     ]
    }
   ],
   "source": [
    "import sys\n",
    "sys.path.append('../')\n",
    "import torch\n",
    "from transformer.layers import FeedForward, LayerNorm, ResidualConnection\n",
    "\n",
    "# Define the dimensions and dropout rate\n",
    "d_model = 7\n",
    "d_ff=2048\n",
    "batch_size=1 \n",
    "seq_len=4\n",
    "dropout = 0.1\n",
    "\n",
    "# Create an instance of the ResidualConnection and FeedForward classes\n",
    "residual_connection = ResidualConnection(d_model, dropout)\n",
    "feed_forward = FeedForward(d_model, d_ff=d_ff, dropout=dropout)\n",
    "\n",
    "# Create a random tensor to represent a batch of sequences\n",
    "torch.manual_seed(68) # for reproducible result of random process\n",
    "x = torch.rand(batch_size, seq_len, d_model)  \n",
    "\n",
    "# Pass the tensor through the residual connection with feed forward as the sublayer\n",
    "output = residual_connection(x, feed_forward)\n",
    "\n",
    "print(\"Initial input tensor: \\n\", x)\n",
    "print(\"Output shape: \\n\", output.shape)  # Should output: torch.Size([1, 4, 7])\n",
    "print(\"Output: \\n\", output)"
   ]
  },
  {
   "cell_type": "code",
   "execution_count": null,
   "id": "0237d3ff-d83b-47c7-9948-df15eec26733",
   "metadata": {},
   "outputs": [],
   "source": []
  }
 ],
 "metadata": {
  "kernelspec": {
   "display_name": "Python 3 (ipykernel)",
   "language": "python",
   "name": "python3"
  },
  "language_info": {
   "codemirror_mode": {
    "name": "ipython",
    "version": 3
   },
   "file_extension": ".py",
   "mimetype": "text/x-python",
   "name": "python",
   "nbconvert_exporter": "python",
   "pygments_lexer": "ipython3",
   "version": "3.10.13"
  }
 },
 "nbformat": 4,
 "nbformat_minor": 5
}
