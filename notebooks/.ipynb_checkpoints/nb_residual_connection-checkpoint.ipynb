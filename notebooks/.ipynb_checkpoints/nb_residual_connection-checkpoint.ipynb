{
 "cells": [
  {
   "cell_type": "code",
   "execution_count": 13,
   "id": "d87c0ba2-970f-4c65-a1a4-4d3696f382e4",
   "metadata": {},
   "outputs": [],
   "source": [
    "import sys\n",
    "sys.path.append('../')\n",
    "import torch\n",
    "import torch.nn as nn\n",
    "import math\n",
    "from transformer.layers import FeedForward, LayerNorm"
   ]
  },
  {
   "cell_type": "code",
   "execution_count": 14,
   "id": "1a88ab9f-a3d3-4925-a1d8-5ffed7822f32",
   "metadata": {},
   "outputs": [],
   "source": [
    "class ResidualConnection(nn.Module):\n",
    "    def __init__(self, d_model: int, dropout: float) -> None:\n",
    "        super().__init__()\n",
    "        self.norm = LayerNorm(d_model)\n",
    "        self.dropout = nn.Dropout(dropout)\n",
    "    \n",
    "    def forward(self, x, sublayer): # x: [batch_size, seq_len, d_model]\n",
    "        return x + self.dropout(sublayer(self.norm(x))) # [batch_size, seq_len, d_model]"
   ]
  },
  {
   "cell_type": "code",
   "execution_count": 15,
   "id": "eb3f5655-60d5-49c6-9ad1-78a702323765",
   "metadata": {},
   "outputs": [
    {
     "name": "stdout",
     "output_type": "stream",
     "text": [
      "torch.Size([10, 20, 512])\n"
     ]
    }
   ],
   "source": [
    "# Define the dimensions and dropout rate\n",
    "d_model = 512\n",
    "dropout = 0.1\n",
    "\n",
    "# Create an instance of the ResidualConnection and FeedForward classes\n",
    "residual_connection = ResidualConnection(d_model, dropout)\n",
    "feed_forward = FeedForward(d_model, d_ff=2048, dropout=dropout)\n",
    "\n",
    "# Create a random tensor to represent a batch of sequences\n",
    "x = torch.rand(10, 20, d_model)  # batch_size=10, seq_len=20, d_model=512\n",
    "\n",
    "# Pass the tensor through the residual connection with feed forward as the sublayer\n",
    "output = residual_connection(x, feed_forward)\n",
    "\n",
    "print(output.shape)  # Should print: torch.Size([10, 20, 512])"
   ]
  },
  {
   "cell_type": "code",
   "execution_count": 16,
   "id": "0c91f034-baf6-47b6-86cb-5c6d02efc6f4",
   "metadata": {},
   "outputs": [
    {
     "data": {
      "text/plain": [
       "tensor([[[ 0.2129, -0.0436,  0.9588,  ...,  0.1822,  0.3639,  0.4293],\n",
       "         [ 0.2390,  0.6822,  0.9811,  ...,  0.2690,  0.7167,  0.4967],\n",
       "         [ 0.3385,  1.2155,  0.9386,  ..., -0.1280,  0.7318,  0.0548],\n",
       "         ...,\n",
       "         [ 1.0564,  0.7191,  0.6237,  ..., -0.4058,  0.6851,  0.1766],\n",
       "         [ 0.7956,  0.6718,  0.5989,  ...,  0.9856,  0.7379,  0.9130],\n",
       "         [ 0.6477,  0.6326,  0.9082,  ..., -0.2746,  1.2814,  0.7777]],\n",
       "\n",
       "        [[ 0.9801,  0.1643,  0.8520,  ..., -0.3538,  0.7820,  0.0167],\n",
       "         [ 0.8016,  0.9011,  1.9092,  ...,  0.6830, -0.3906, -0.0636],\n",
       "         [-0.3192,  1.2711,  0.7822,  ...,  0.0668,  0.2121,  0.7413],\n",
       "         ...,\n",
       "         [-0.0962,  0.6480,  0.6683,  ...,  0.6441,  0.4376,  0.8433],\n",
       "         [ 0.5444,  1.1282,  0.7066,  ...,  0.3085,  0.8632,  0.0959],\n",
       "         [ 0.1369,  0.4966,  0.6239,  ...,  0.1070,  0.2950,  0.6108]],\n",
       "\n",
       "        [[ 0.0291,  0.4064,  0.8068,  ...,  0.5433,  0.3167,  0.7600],\n",
       "         [ 0.6815,  1.2556,  0.4052,  ..., -0.2060,  0.1739,  0.2827],\n",
       "         [ 0.5597,  1.5366,  0.6819,  ...,  0.2614,  0.1556, -0.0158],\n",
       "         ...,\n",
       "         [-0.1395,  0.1310,  1.4858,  ...,  0.1631,  0.7925,  0.4611],\n",
       "         [ 0.8401,  1.0009,  0.2068,  ...,  0.3819,  0.3608, -0.1295],\n",
       "         [-0.0738,  0.7948,  0.8253,  ...,  0.8273,  0.4600,  0.0322]],\n",
       "\n",
       "        ...,\n",
       "\n",
       "        [[ 0.9560,  0.6033,  0.9161,  ..., -0.1794,  0.8236,  0.7380],\n",
       "         [ 0.2134,  0.9568,  1.2500,  ...,  0.2475,  0.6142,  0.3525],\n",
       "         [ 0.2853,  0.5863,  0.3638,  ...,  0.5675,  0.4209,  0.7305],\n",
       "         ...,\n",
       "         [ 0.7192,  0.5289,  0.7808,  ...,  0.0089,  0.1206,  0.7259],\n",
       "         [ 0.1777,  0.6952,  1.3690,  ...,  0.3270,  0.3775,  0.0040],\n",
       "         [ 0.6429,  1.2143,  1.0597,  ...,  0.5557,  0.4670,  0.5113]],\n",
       "\n",
       "        [[-0.3448,  0.8488,  0.7987,  ...,  0.0991,  0.3212,  0.7995],\n",
       "         [ 0.2510,  0.7442,  0.4430,  ...,  0.6866,  0.2481,  0.2261],\n",
       "         [-0.0622,  0.5816,  0.8836,  ...,  0.0133,  0.4234,  0.3626],\n",
       "         ...,\n",
       "         [ 0.3670,  0.9133,  0.3528,  ...,  0.4800,  0.4779,  0.4798],\n",
       "         [ 0.0474,  1.3336,  0.9202,  ...,  0.5014, -0.0600,  0.4864],\n",
       "         [ 0.4761,  0.9510,  0.5251,  ...,  0.8208,  1.3549,  0.8523]],\n",
       "\n",
       "        [[ 0.7251,  0.7189,  1.2048,  ...,  0.4217,  0.4018,  0.9988],\n",
       "         [ 0.7019,  0.5640,  0.8423,  ..., -0.0070,  0.1310,  0.2007],\n",
       "         [ 0.5684,  0.4371,  0.6396,  ...,  0.0641,  1.0819,  0.4641],\n",
       "         ...,\n",
       "         [ 0.1579,  0.4482,  0.4910,  ...,  0.1662,  1.2050,  0.6671],\n",
       "         [ 0.0568,  0.8911,  1.5790,  ...,  0.1014, -0.4009,  1.3265],\n",
       "         [ 0.7048,  0.7450,  0.4936,  ...,  0.2559,  0.8877,  0.1113]]],\n",
       "       grad_fn=<AddBackward0>)"
      ]
     },
     "execution_count": 16,
     "metadata": {},
     "output_type": "execute_result"
    }
   ],
   "source": [
    "output"
   ]
  },
  {
   "cell_type": "code",
   "execution_count": null,
   "id": "0237d3ff-d83b-47c7-9948-df15eec26733",
   "metadata": {},
   "outputs": [],
   "source": []
  }
 ],
 "metadata": {
  "kernelspec": {
   "display_name": "Python 3 (ipykernel)",
   "language": "python",
   "name": "python3"
  },
  "language_info": {
   "codemirror_mode": {
    "name": "ipython",
    "version": 3
   },
   "file_extension": ".py",
   "mimetype": "text/x-python",
   "name": "python",
   "nbconvert_exporter": "python",
   "pygments_lexer": "ipython3",
   "version": "3.10.13"
  }
 },
 "nbformat": 4,
 "nbformat_minor": 5
}
