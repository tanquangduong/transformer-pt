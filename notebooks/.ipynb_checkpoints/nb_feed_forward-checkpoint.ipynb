{
 "cells": [
  {
   "cell_type": "code",
   "execution_count": 7,
   "id": "8d21cc7d-3fbe-4009-9f8f-6fa602332ca7",
   "metadata": {},
   "outputs": [
    {
     "name": "stdout",
     "output_type": "stream",
     "text": [
      "Initial input tensor: \n",
      " tensor([[[0.3991, 0.5521, 0.1004, 0.2844, 0.9998, 0.7077, 0.8031],\n",
      "         [0.2066, 0.3589, 0.8509, 0.8753, 0.4669, 0.6566, 0.6026],\n",
      "         [0.2785, 0.1350, 0.2257, 0.9548, 0.8214, 0.1386, 0.6055],\n",
      "         [0.2300, 0.7895, 0.4098, 0.0428, 0.4400, 0.2381, 0.4967]]])\n",
      "Output's shape: \n",
      " torch.Size([1, 4, 7])\n",
      "Output: \n",
      " tensor([[[ 0.0720,  0.1200, -0.1622,  0.0434,  0.1208,  0.0620,  0.1181],\n",
      "         [ 0.1598,  0.1092, -0.3016,  0.0802,  0.2688,  0.0880,  0.0889],\n",
      "         [ 0.0914,  0.1850, -0.3466,  0.0067,  0.1207, -0.0092,  0.2013],\n",
      "         [ 0.1391,  0.0333, -0.3188, -0.0141,  0.0297, -0.0072,  0.1675]]],\n",
      "       grad_fn=<ViewBackward0>)\n"
     ]
    }
   ],
   "source": [
    "import sys\n",
    "sys.path.append('../')\n",
    "import torch\n",
    "from transformer.layers import FeedForward\n",
    "\n",
    "# Define the dimensions and dropout rate\n",
    "d_model = 7\n",
    "batch_size=1 \n",
    "seq_len=4\n",
    "d_ff = 2048\n",
    "dropout = 0.1\n",
    "\n",
    "# Create an instance of the FeedForward class\n",
    "ff = FeedForward(d_model, d_ff, dropout)\n",
    "\n",
    "# Create a random tensor to represent a batch of sequences\n",
    "torch.manual_seed(68) # for reproducible result of random process\n",
    "x = torch.rand(batch_size, seq_len, d_model)  \n",
    "\n",
    "# Pass the tensor through the feed-forward network\n",
    "output = ff(x)\n",
    "\n",
    "print(\"Initial input tensor: \\n\", x)\n",
    "print(\"Output's shape: \\n\", output.shape)  \n",
    "print(\"Output: \\n\", output) "
   ]
  },
  {
   "cell_type": "code",
   "execution_count": null,
   "id": "2f39a4d9-c200-4782-9424-4542cc371bc2",
   "metadata": {},
   "outputs": [],
   "source": []
  }
 ],
 "metadata": {
  "kernelspec": {
   "display_name": "Python 3 (ipykernel)",
   "language": "python",
   "name": "python3"
  },
  "language_info": {
   "codemirror_mode": {
    "name": "ipython",
    "version": 3
   },
   "file_extension": ".py",
   "mimetype": "text/x-python",
   "name": "python",
   "nbconvert_exporter": "python",
   "pygments_lexer": "ipython3",
   "version": "3.10.13"
  }
 },
 "nbformat": 4,
 "nbformat_minor": 5
}
