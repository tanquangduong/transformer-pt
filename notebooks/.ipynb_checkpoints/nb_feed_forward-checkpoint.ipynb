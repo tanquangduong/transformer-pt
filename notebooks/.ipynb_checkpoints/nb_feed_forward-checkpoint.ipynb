{
 "cells": [
  {
   "cell_type": "code",
   "execution_count": 2,
   "id": "8d21cc7d-3fbe-4009-9f8f-6fa602332ca7",
   "metadata": {},
   "outputs": [
    {
     "name": "stdout",
     "output_type": "stream",
     "text": [
      "Initial input tensor: \n",
      " tensor([[[0.3991, 0.5521, 0.1004, 0.2844, 0.9998],\n",
      "         [0.7077, 0.8031, 0.2066, 0.3589, 0.8509],\n",
      "         [0.8753, 0.4669, 0.6566, 0.6026, 0.2785],\n",
      "         [0.1350, 0.2257, 0.9548, 0.8214, 0.1386]]])\n",
      "Output: \n",
      " tensor([[[-0.0878, -0.0821, -0.0439, -0.0166, -0.4808],\n",
      "         [ 0.0055,  0.0115, -0.0863,  0.0178, -0.4487],\n",
      "         [-0.1026,  0.0488,  0.1818,  0.1283, -0.5247],\n",
      "         [-0.0086, -0.2463,  0.1103,  0.2199, -0.3702]]],\n",
      "       grad_fn=<ViewBackward0>)\n",
      "Output's shape: \n",
      " torch.Size([1, 4, 5])\n"
     ]
    }
   ],
   "source": [
    "import sys\n",
    "sys.path.append('../')\n",
    "import torch\n",
    "from transformer.layer import FeedForward\n",
    "\n",
    "# Initiate configuration\n",
    "d_model = 5\n",
    "batch_size=1 \n",
    "seq_len=4\n",
    "d_ff = 2048\n",
    "dropout = 0.1\n",
    "\n",
    "# Create an instance of the FeedForward class\n",
    "ff = FeedForward(d_model, d_ff, dropout)\n",
    "\n",
    "# Create a random tensor to represent a batch of sequences\n",
    "torch.manual_seed(68) # for reproducible result of random process\n",
    "x = torch.rand(batch_size, seq_len, d_model)  \n",
    "\n",
    "# Pass the tensor through the feed-forward network\n",
    "output = ff(x)\n",
    "\n",
    "print(\"Initial input tensor: \\n\", x)\n",
    "print(\"Output: \\n\", output) \n",
    "print(\"Output's shape: \\n\", output.shape)  "
   ]
  },
  {
   "cell_type": "code",
   "execution_count": null,
   "id": "2f39a4d9-c200-4782-9424-4542cc371bc2",
   "metadata": {},
   "outputs": [],
   "source": []
  }
 ],
 "metadata": {
  "kernelspec": {
   "display_name": "Python 3 (ipykernel)",
   "language": "python",
   "name": "python3"
  },
  "language_info": {
   "codemirror_mode": {
    "name": "ipython",
    "version": 3
   },
   "file_extension": ".py",
   "mimetype": "text/x-python",
   "name": "python",
   "nbconvert_exporter": "python",
   "pygments_lexer": "ipython3",
   "version": "3.10.13"
  }
 },
 "nbformat": 4,
 "nbformat_minor": 5
}
