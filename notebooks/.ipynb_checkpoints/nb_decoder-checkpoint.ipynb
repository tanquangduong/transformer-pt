{
 "cells": [
  {
   "cell_type": "code",
   "execution_count": 2,
   "id": "56d4f7d2-5643-4f10-b219-fb3b995c79fc",
   "metadata": {},
   "outputs": [],
   "source": [
    "import sys\n",
    "sys.path.append('../')\n",
    "import torch\n",
    "from transformer.layers import MultiHeadAttention, FeedForward, LayerNorm\n",
    "from transformer.decoder import DecoderLayer, Decoder"
   ]
  },
  {
   "cell_type": "code",
   "execution_count": 3,
   "id": "f021f280-12ca-4569-966d-e712649c1eb0",
   "metadata": {},
   "outputs": [
    {
     "name": "stdout",
     "output_type": "stream",
     "text": [
      "torch.Size([10, 20, 512])\n"
     ]
    }
   ],
   "source": [
    "# Define the dimensions, number of heads, dropout rate, and number of layers\n",
    "d_model = 512\n",
    "h = 8\n",
    "dropout = 0.1\n",
    "num_layers = 6\n",
    "\n",
    "# Create an instance of the MultiHeadAttention and FeedForward classes\n",
    "self_attention = MultiHeadAttention(d_model, h, dropout)\n",
    "encoder_decoder_attention = MultiHeadAttention(d_model, h, dropout)\n",
    "feed_forward = FeedForward(d_model, 2048, dropout)  # 2048 is the dimension of the feed forward network\n",
    "\n",
    "# Create an instance of the DecoderLayer class\n",
    "decoder_layer = DecoderLayer(d_model, self_attention, encoder_decoder_attention, feed_forward, dropout)\n",
    "\n",
    "# Create an instance of the Decoder class\n",
    "decoder = Decoder(d_model, decoder_layer, num_layers)\n",
    "\n",
    "# Create a random tensor to represent a batch of sequences\n",
    "x = torch.rand(10, 20, d_model)  # batch_size=10, seq_len=20, d_model=512\n",
    "encoder_output = torch.rand(10, 20, d_model)  # batch_size=10, seq_len=20, d_model=512\n",
    "\n",
    "# Pass the tensor through the decoder\n",
    "output = decoder(x, encoder_output)\n",
    "\n",
    "print(output.shape)  # Should print: torch.Size([10, 20, 512])"
   ]
  },
  {
   "cell_type": "code",
   "execution_count": 4,
   "id": "dabc9e46-e3b8-424b-8297-c70af1c8d2a9",
   "metadata": {},
   "outputs": [
    {
     "data": {
      "text/plain": [
       "tensor([[[-6.9862e-01,  6.6756e-01,  1.6317e+00,  ...,  3.1221e-01,\n",
       "          -2.0468e+00,  1.1073e+00],\n",
       "         [-1.2818e+00,  3.2647e-01,  1.6132e+00,  ...,  4.1941e-01,\n",
       "          -1.8337e+00,  1.2111e+00],\n",
       "         [-1.8789e+00,  1.1062e-01,  1.4422e+00,  ...,  4.1600e-01,\n",
       "          -1.6301e+00,  7.1257e-01],\n",
       "         ...,\n",
       "         [-7.0018e-01,  5.4381e-01,  1.1579e+00,  ...,  5.5716e-01,\n",
       "          -2.1823e+00,  1.3605e+00],\n",
       "         [-8.4610e-01, -1.8447e-02,  1.2074e+00,  ...,  1.2061e-01,\n",
       "          -6.3375e-01,  1.3071e+00],\n",
       "         [-1.0944e+00,  1.0925e+00,  1.9268e+00,  ..., -2.6703e-01,\n",
       "          -1.2322e+00,  1.4755e+00]],\n",
       "\n",
       "        [[-1.4732e+00, -3.8575e-01,  1.4072e+00,  ...,  2.1424e-01,\n",
       "          -1.1060e+00,  2.6516e-01],\n",
       "         [-1.9053e+00, -1.2239e+00,  1.8166e+00,  ...,  4.3561e-01,\n",
       "          -1.0866e+00,  7.1970e-01],\n",
       "         [-1.6816e+00, -4.1880e-01,  2.0127e+00,  ..., -2.5176e-01,\n",
       "          -1.5755e+00,  1.8936e-01],\n",
       "         ...,\n",
       "         [-1.4338e+00, -3.5465e-01,  1.6414e+00,  ...,  2.7936e-01,\n",
       "          -1.1293e+00,  1.0026e+00],\n",
       "         [-1.8157e+00, -9.8151e-01,  1.7545e+00,  ...,  7.2497e-01,\n",
       "          -1.1617e+00,  2.4263e-01],\n",
       "         [-1.9289e+00, -5.0311e-01,  2.1215e+00,  ...,  5.1942e-01,\n",
       "          -7.2537e-01,  7.3984e-01]],\n",
       "\n",
       "        [[-1.8132e+00,  3.5411e-01,  1.1945e+00,  ...,  1.3456e-02,\n",
       "          -1.3488e+00,  9.5193e-01],\n",
       "         [-1.4676e+00,  5.5655e-01,  1.0435e+00,  ..., -8.8583e-02,\n",
       "          -1.1683e+00,  1.8940e+00],\n",
       "         [-2.0395e+00,  8.2750e-01,  8.9894e-01,  ..., -5.4027e-01,\n",
       "          -2.3139e+00,  6.7022e-01],\n",
       "         ...,\n",
       "         [-1.7448e+00,  1.8625e-01,  1.8988e+00,  ..., -1.4712e-01,\n",
       "          -1.9099e+00,  4.2598e-01],\n",
       "         [-1.1838e+00, -5.3168e-02,  9.1854e-01,  ..., -2.6262e-01,\n",
       "          -1.0939e+00,  8.8481e-01],\n",
       "         [-1.7319e+00,  1.7628e-01,  1.2418e+00,  ..., -1.4043e-01,\n",
       "          -1.8549e+00,  1.0544e+00]],\n",
       "\n",
       "        ...,\n",
       "\n",
       "        [[-7.6392e-01,  7.7864e-01,  1.8155e+00,  ...,  5.7661e-02,\n",
       "          -1.4316e+00,  8.3040e-01],\n",
       "         [-7.5408e-01,  3.0402e-01,  1.6352e+00,  ...,  2.2566e-01,\n",
       "          -1.7786e+00,  2.1646e+00],\n",
       "         [-1.7841e+00,  3.5559e-01,  1.8363e+00,  ...,  6.6372e-01,\n",
       "          -8.4503e-01,  1.7076e+00],\n",
       "         ...,\n",
       "         [-1.2738e+00,  4.4611e-01,  1.0999e+00,  ..., -1.5744e-01,\n",
       "          -1.5040e+00,  3.8869e-01],\n",
       "         [-1.1084e+00,  2.6803e-01,  7.6684e-01,  ..., -8.9947e-02,\n",
       "          -2.3266e+00,  1.5938e+00],\n",
       "         [-7.0327e-01,  6.9539e-02,  1.3047e+00,  ...,  2.5237e-01,\n",
       "          -8.5978e-01,  1.4639e+00]],\n",
       "\n",
       "        [[-1.3831e+00, -4.8104e-01,  1.5989e+00,  ...,  2.2742e-03,\n",
       "          -2.2019e+00,  7.7762e-01],\n",
       "         [-1.8259e+00, -6.8215e-02,  1.7118e+00,  ...,  3.3899e-01,\n",
       "          -1.6568e+00,  1.0577e+00],\n",
       "         [-1.9600e+00,  8.9069e-02,  1.9069e+00,  ..., -2.7342e-01,\n",
       "          -1.5013e+00,  5.2738e-01],\n",
       "         ...,\n",
       "         [-1.6222e+00,  4.9268e-01,  1.9496e+00,  ...,  3.8177e-01,\n",
       "          -1.4799e+00,  5.2903e-01],\n",
       "         [-1.4992e+00,  5.0178e-01,  2.3826e+00,  ...,  4.6392e-01,\n",
       "          -1.3931e+00,  5.6903e-01],\n",
       "         [-1.6785e+00,  5.1640e-01,  1.1705e+00,  ...,  4.5504e-03,\n",
       "          -1.1407e+00,  7.1289e-01]],\n",
       "\n",
       "        [[-1.5690e+00, -6.3102e-02,  1.1043e+00,  ...,  6.5419e-01,\n",
       "          -5.5018e-01,  5.0489e-01],\n",
       "         [-1.3291e+00,  5.6863e-01,  1.0004e+00,  ...,  6.6006e-01,\n",
       "          -1.6212e+00,  3.4374e-01],\n",
       "         [-8.6966e-01, -1.0304e-01,  1.3555e+00,  ..., -3.5572e-01,\n",
       "          -9.0810e-01,  1.2361e+00],\n",
       "         ...,\n",
       "         [-1.2966e+00,  3.2967e-01,  1.7634e+00,  ..., -1.8146e-01,\n",
       "          -1.0888e+00,  8.1263e-01],\n",
       "         [-6.8254e-01,  3.8234e-01,  1.4052e+00,  ..., -8.1828e-01,\n",
       "          -7.5754e-01,  9.4799e-02],\n",
       "         [-1.6841e+00,  3.4138e-01,  8.3447e-01,  ...,  3.9304e-01,\n",
       "          -7.4086e-01,  1.2276e+00]]], grad_fn=<AddBackward0>)"
      ]
     },
     "execution_count": 4,
     "metadata": {},
     "output_type": "execute_result"
    }
   ],
   "source": [
    "output"
   ]
  },
  {
   "cell_type": "code",
   "execution_count": null,
   "id": "3f412900-895f-46ec-a6a5-7da8cd306e99",
   "metadata": {},
   "outputs": [],
   "source": []
  }
 ],
 "metadata": {
  "kernelspec": {
   "display_name": "Python 3 (ipykernel)",
   "language": "python",
   "name": "python3"
  },
  "language_info": {
   "codemirror_mode": {
    "name": "ipython",
    "version": 3
   },
   "file_extension": ".py",
   "mimetype": "text/x-python",
   "name": "python",
   "nbconvert_exporter": "python",
   "pygments_lexer": "ipython3",
   "version": "3.10.13"
  }
 },
 "nbformat": 4,
 "nbformat_minor": 5
}
