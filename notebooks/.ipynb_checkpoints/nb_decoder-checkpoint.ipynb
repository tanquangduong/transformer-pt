{
 "cells": [
  {
   "cell_type": "code",
   "execution_count": 2,
   "id": "816a36d8-9052-4593-8509-5e8b1225d1ae",
   "metadata": {},
   "outputs": [
    {
     "name": "stdout",
     "output_type": "stream",
     "text": [
      "Initial input tensor: \n",
      " tensor([[[0.3991, 0.5521, 0.1004, 0.2844, 0.9998, 0.7077, 0.8031, 0.2066],\n",
      "         [0.3589, 0.8509, 0.8753, 0.4669, 0.6566, 0.6026, 0.2785, 0.1350],\n",
      "         [0.2257, 0.9548, 0.8214, 0.1386, 0.6055, 0.2300, 0.7895, 0.4098],\n",
      "         [0.0428, 0.4400, 0.2381, 0.4967, 0.8516, 0.4378, 0.4367, 0.0916]]])\n",
      "Encoder output tensor: \n",
      " tensor([[[0.1980, 0.4503, 0.0909, 0.8872, 0.2894, 0.0186, 0.9095, 0.3406],\n",
      "         [0.4309, 0.7324, 0.4776, 0.0716, 0.5834, 0.7521, 0.7649, 0.1443],\n",
      "         [0.7152, 0.3953, 0.6244, 0.3684, 0.8823, 0.3746, 0.1458, 0.3671],\n",
      "         [0.5645, 0.5272, 0.1141, 0.0992, 0.1637, 0.7688, 0.4825, 0.8019]]])\n",
      "Output's shape: \n",
      " torch.Size([1, 4, 8])\n",
      "Output: \n",
      " tensor([[[-0.3688, -1.4840, -0.4858,  1.1288,  0.6073, -1.0262,  1.2634,\n",
      "           0.3653],\n",
      "         [-0.5547, -1.2814, -0.3132,  1.4950,  0.3125, -1.1744,  0.9710,\n",
      "           0.5452],\n",
      "         [-0.7233, -0.8057,  0.5567,  0.9686,  0.3816, -1.7979,  1.0208,\n",
      "           0.3993],\n",
      "         [-0.4538, -1.4635, -0.3577,  1.2841,  0.2761, -0.9883,  1.2831,\n",
      "           0.4200]]], grad_fn=<AddBackward0>)\n"
     ]
    }
   ],
   "source": [
    "import sys\n",
    "sys.path.append('../')\n",
    "import torch\n",
    "from transformer.layers import MultiHeadAttention, FeedForward, LayerNorm\n",
    "from transformer.decoder import DecoderLayer, Decoder\n",
    "\n",
    "# Define the dimensions,, dropout rate, and number of layers\n",
    "d_model = 8 # feature dimension\n",
    "h = 8 #  number of heads\n",
    "dropout = 0.1 # dropout ratio\n",
    "d_ff = 2048 # the dimension of the feed forward network\n",
    "batch_size = 1 # batch size\n",
    "seq_len = 4 # sequence length\n",
    "\n",
    "num_layers = 6 # number of encoder layer\n",
    "\n",
    "# Create an instance of the MultiHeadAttention and FeedForward classes\n",
    "self_attention = MultiHeadAttention(d_model, h, dropout)\n",
    "encoder_decoder_attention = MultiHeadAttention(d_model, h, dropout)\n",
    "feed_forward = FeedForward(d_model, d_ff, dropout)  # 2048 is the dimension of the feed forward network\n",
    "\n",
    "# Create an instance of the DecoderLayer class\n",
    "decoder_layer = DecoderLayer(d_model, self_attention, encoder_decoder_attention, feed_forward, dropout)\n",
    "\n",
    "# Create an instance of the Decoder class\n",
    "decoder = Decoder(d_model, decoder_layer, num_layers)\n",
    "\n",
    "# Create a random tensor to represent a batch of sequences\n",
    "torch.manual_seed(68) # for reproducible result of random process\n",
    "x = torch.rand(batch_size, seq_len, d_model) \n",
    "torch.manual_seed(101) # for reproducible result of random process\n",
    "encoder_output = torch.rand(batch_size, seq_len, d_model) \n",
    "\n",
    "# Pass the tensor through the decoder\n",
    "output = decoder(x, encoder_output)\n",
    "\n",
    "print(\"Initial input tensor: \\n\", x)\n",
    "print(\"Encoder output tensor: \\n\", encoder_output)\n",
    "print(\"Output's shape: \\n\", output.shape)  \n",
    "print(\"Output: \\n\", output) "
   ]
  },
  {
   "cell_type": "code",
   "execution_count": null,
   "id": "3f412900-895f-46ec-a6a5-7da8cd306e99",
   "metadata": {},
   "outputs": [],
   "source": []
  }
 ],
 "metadata": {
  "kernelspec": {
   "display_name": "Python 3 (ipykernel)",
   "language": "python",
   "name": "python3"
  },
  "language_info": {
   "codemirror_mode": {
    "name": "ipython",
    "version": 3
   },
   "file_extension": ".py",
   "mimetype": "text/x-python",
   "name": "python",
   "nbconvert_exporter": "python",
   "pygments_lexer": "ipython3",
   "version": "3.10.13"
  }
 },
 "nbformat": 4,
 "nbformat_minor": 5
}
