{
 "cells": [
  {
   "cell_type": "code",
   "execution_count": 1,
   "id": "1c40281b-99b9-4322-a5e6-0c5270f29d22",
   "metadata": {},
   "outputs": [],
   "source": [
    "import sys\n",
    "sys.path.append('../')\n",
    "import torch\n",
    "import torch.nn as nn\n",
    "import math\n",
    "from transformer.layers import LayerNorm"
   ]
  },
  {
   "cell_type": "code",
   "execution_count": 2,
   "id": "bf60bcd5-697c-469d-986d-b0ccf7833f01",
   "metadata": {},
   "outputs": [
    {
     "name": "stdout",
     "output_type": "stream",
     "text": [
      "torch.Size([2, 4, 300])\n"
     ]
    }
   ],
   "source": [
    "# Suppose we have a feature length of 300\n",
    "d_model = 300\n",
    "\n",
    "# Create an instance of our LayerNorm class\n",
    "layer_norm = LayerNorm(d_model)\n",
    "\n",
    "# Suppose we have the following batch of 2 sequences (mini-batch size of 2)\n",
    "# Each sequence has 4 words (sequence length of 4)\n",
    "# Each word is represented by a 300-dimensional vector (d_model = 300)\n",
    "x = torch.rand(2, 4, 300)\n",
    "\n",
    "# Pass our sequences through the layer normalization\n",
    "normalized_sequences = layer_norm(x)\n",
    "\n",
    "print(normalized_sequences.shape)  # Should output: torch.Size([2, 4, 300])"
   ]
  },
  {
   "cell_type": "code",
   "execution_count": 3,
   "id": "21957a55-0974-4bef-a2cf-018f445be01b",
   "metadata": {},
   "outputs": [
    {
     "data": {
      "text/plain": [
       "tensor([[[ 0.0832,  0.3374,  1.0387,  ..., -1.4537,  0.7936, -1.3355],\n",
       "         [ 0.4244, -0.8595,  0.8343,  ..., -0.1112,  0.4064,  1.0202],\n",
       "         [ 1.3796,  0.1636, -0.6745,  ..., -1.4509,  1.0993, -0.7286],\n",
       "         [ 0.1401,  0.8725,  0.7189,  ...,  1.2315,  0.8025, -0.6433]],\n",
       "\n",
       "        [[-0.1297, -0.5034, -1.7159,  ...,  1.4055, -0.7604, -1.5585],\n",
       "         [-0.7908, -1.0614, -1.6116,  ..., -1.6726,  0.5980, -0.6307],\n",
       "         [-0.2675, -1.8240,  0.3500,  ..., -0.6644, -0.7605, -0.3541],\n",
       "         [ 0.5205, -0.4430,  0.8559,  ..., -1.0638,  1.5569,  1.2608]]],\n",
       "       grad_fn=<AddBackward0>)"
      ]
     },
     "execution_count": 3,
     "metadata": {},
     "output_type": "execute_result"
    }
   ],
   "source": [
    "normalized_sequences"
   ]
  },
  {
   "cell_type": "code",
   "execution_count": null,
   "id": "4255738f-8124-4c59-998d-fc6127088859",
   "metadata": {},
   "outputs": [],
   "source": []
  }
 ],
 "metadata": {
  "kernelspec": {
   "display_name": "Python 3 (ipykernel)",
   "language": "python",
   "name": "python3"
  },
  "language_info": {
   "codemirror_mode": {
    "name": "ipython",
    "version": 3
   },
   "file_extension": ".py",
   "mimetype": "text/x-python",
   "name": "python",
   "nbconvert_exporter": "python",
   "pygments_lexer": "ipython3",
   "version": "3.10.13"
  }
 },
 "nbformat": 4,
 "nbformat_minor": 5
}
