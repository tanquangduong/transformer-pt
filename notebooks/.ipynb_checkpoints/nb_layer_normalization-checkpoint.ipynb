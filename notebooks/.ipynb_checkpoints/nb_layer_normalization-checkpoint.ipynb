{
 "cells": [
  {
   "cell_type": "code",
   "execution_count": 17,
   "id": "42fc1e66-3973-48f8-b35e-1b798f7a5c03",
   "metadata": {},
   "outputs": [
    {
     "name": "stdout",
     "output_type": "stream",
     "text": [
      "Initial input tensor: \n",
      " tensor([[[0.3991, 0.5521, 0.1004, 0.2844, 0.9998, 0.7077, 0.8031],\n",
      "         [0.2066, 0.3589, 0.8509, 0.8753, 0.4669, 0.6566, 0.6026],\n",
      "         [0.2785, 0.1350, 0.2257, 0.9548, 0.8214, 0.1386, 0.6055],\n",
      "         [0.2300, 0.7895, 0.4098, 0.0428, 0.4400, 0.2381, 0.4967]]])\n",
      "Normalized sequences shape: \n",
      " torch.Size([1, 4, 7])\n",
      "Normalized sequences: \n",
      " tensor([[[-0.4810,  0.0083, -1.4361, -0.8479,  1.4399,  0.5058,  0.8111],\n",
      "         [-1.4836, -0.8688,  1.1186,  1.2171, -0.4325,  0.3336,  0.1156],\n",
      "         [-0.5088, -0.9308, -0.6641,  1.4815,  1.0890, -0.9204,  0.4536],\n",
      "         [-0.6203,  1.7227,  0.1328, -1.4044,  0.2592, -0.5863,  0.4965]]],\n",
      "       grad_fn=<AddBackward0>)\n"
     ]
    }
   ],
   "source": [
    "import sys\n",
    "sys.path.append('../')\n",
    "import torch\n",
    "from transformer.layers import LayerNorm\n",
    "\n",
    "# Suppose we have a feature length of 7\n",
    "d_model = 7\n",
    "batch_size=1 \n",
    "seq_len=4\n",
    "\n",
    "# Create an instance of our LayerNorm class\n",
    "layer_norm = LayerNorm(d_model)\n",
    "\n",
    "# Suppose we have the following batch of 1 sequences (mini-batch size of 1)\n",
    "# Each sequence has 4 words (sequence length of 4)\n",
    "# Each word is represented by a 7-dimensional vector (d_model = 7)\n",
    "# set a seed to obtain the same result for random generation\n",
    "torch.manual_seed(68)\n",
    "x = torch.rand(batch_size, seq_len, d_model)\n",
    "\n",
    "# Pass our sequences through the layer normalization\n",
    "normalized_sequences = layer_norm(x)\n",
    "\n",
    "print(\"Initial input tensor: \\n\", x)\n",
    "print(\"Normalized sequences shape: \\n\", normalized_sequences.shape)  # Should output: torch.Size([1, 4, 7])\n",
    "print(\"Normalized sequences: \\n\", normalized_sequences)"
   ]
  },
  {
   "cell_type": "code",
   "execution_count": null,
   "id": "65db4282-6b2b-43bf-bbfb-924d5987f089",
   "metadata": {},
   "outputs": [],
   "source": []
  }
 ],
 "metadata": {
  "kernelspec": {
   "display_name": "Python 3 (ipykernel)",
   "language": "python",
   "name": "python3"
  },
  "language_info": {
   "codemirror_mode": {
    "name": "ipython",
    "version": 3
   },
   "file_extension": ".py",
   "mimetype": "text/x-python",
   "name": "python",
   "nbconvert_exporter": "python",
   "pygments_lexer": "ipython3",
   "version": "3.10.13"
  }
 },
 "nbformat": 4,
 "nbformat_minor": 5
}
