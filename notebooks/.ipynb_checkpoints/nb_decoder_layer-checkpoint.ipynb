{
 "cells": [
  {
   "cell_type": "code",
   "execution_count": 9,
   "id": "2a8e252b-799f-4705-bea4-24afbc1e599c",
   "metadata": {},
   "outputs": [
    {
     "name": "stdout",
     "output_type": "stream",
     "text": [
      "Initial input tensor: \n",
      " tensor([[[0.3991, 0.5521, 0.1004, 0.2844, 0.9998, 0.7077, 0.8031],\n",
      "         [0.2066, 0.3589, 0.8509, 0.8753, 0.4669, 0.6566, 0.6026],\n",
      "         [0.2785, 0.1350, 0.2257, 0.9548, 0.8214, 0.1386, 0.6055],\n",
      "         [0.2300, 0.7895, 0.4098, 0.0428, 0.4400, 0.2381, 0.4967]]])\n",
      "Encoder output tensor: \n",
      " tensor([[[0.1980, 0.4503, 0.0909, 0.8872, 0.2894, 0.0186, 0.9095],\n",
      "         [0.3406, 0.4309, 0.7324, 0.4776, 0.0716, 0.5834, 0.7521],\n",
      "         [0.7649, 0.1443, 0.7152, 0.3953, 0.6244, 0.3684, 0.8823],\n",
      "         [0.3746, 0.1458, 0.3671, 0.5645, 0.5272, 0.1141, 0.0992]]])\n",
      "Output's shape: \n",
      " torch.Size([1, 4, 7])\n",
      "Output: \n",
      " tensor([[[ 0.0586,  0.5650, -0.0017,  0.3634,  1.0980,  1.2257,  0.5185],\n",
      "         [ 0.4581,  0.2700,  0.6408,  1.0297,  0.0420,  1.0079,  0.1963],\n",
      "         [-0.1930,  0.0786, -0.3701,  1.2002,  0.5512,  0.0592,  0.0707],\n",
      "         [ 0.3331,  0.5842,  0.3511,  0.2846,  0.2464,  0.9387,  0.7481]]],\n",
      "       grad_fn=<AddBackward0>)\n"
     ]
    }
   ],
   "source": [
    "import sys\n",
    "sys.path.append('../')\n",
    "import torch\n",
    "from transformer.layers import MultiHeadAttention, FeedForward, ResidualConnection\n",
    "from transformer.decoder import DecoderLayer\n",
    "\n",
    "# Define config\n",
    "d_model = 7 # feature dimension\n",
    "d_ff = 2048 # feed forward dimesion\n",
    "h =  1 # number of heads\n",
    "batch_size = 1 # batch_size\n",
    "seq_len = 4 # sequence length\n",
    "dropout = 0.1 # dropout ratio\n",
    "\n",
    "# Create an instance of the MultiHeadAttention and FeedForward classes\n",
    "self_attention = MultiHeadAttention(d_model, h, dropout)\n",
    "encoder_decoder_attention = MultiHeadAttention(d_model, h, dropout)\n",
    "feed_forward = FeedForward(d_model, d_ff, dropout)  \n",
    "\n",
    "# Create an instance of the DecoderLayer class\n",
    "decoder_layer = DecoderLayer(d_model, self_attention, encoder_decoder_attention, feed_forward, dropout)\n",
    "\n",
    "# Create a random tensor to represent a batch of sequences\n",
    "torch.manual_seed(68) # for reproducible result of random process\n",
    "x = torch.rand(batch_size, seq_len, d_model) \n",
    "torch.manual_seed(101) # for reproducible result of random process\n",
    "encoder_output = torch.rand(batch_size, seq_len, d_model)  \n",
    "\n",
    "# Pass the tensor through the decoder layer\n",
    "output = decoder_layer(x, encoder_output)\n",
    "\n",
    "print(\"Initial input tensor: \\n\", x)\n",
    "print(\"Encoder output tensor: \\n\", encoder_output)\n",
    "print(\"Output's shape: \\n\", output.shape)  \n",
    "print(\"Output: \\n\", output)  "
   ]
  },
  {
   "cell_type": "code",
   "execution_count": null,
   "id": "83884443-63af-44a5-9804-24f7e9b3da01",
   "metadata": {},
   "outputs": [],
   "source": []
  }
 ],
 "metadata": {
  "kernelspec": {
   "display_name": "Python 3 (ipykernel)",
   "language": "python",
   "name": "python3"
  },
  "language_info": {
   "codemirror_mode": {
    "name": "ipython",
    "version": 3
   },
   "file_extension": ".py",
   "mimetype": "text/x-python",
   "name": "python",
   "nbconvert_exporter": "python",
   "pygments_lexer": "ipython3",
   "version": "3.10.13"
  }
 },
 "nbformat": 4,
 "nbformat_minor": 5
}
