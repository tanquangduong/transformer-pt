{
 "cells": [
  {
   "cell_type": "code",
   "execution_count": 1,
   "id": "0c643ce5-4f02-49a8-8178-46501ee922eb",
   "metadata": {},
   "outputs": [
    {
     "name": "stdout",
     "output_type": "stream",
     "text": [
      "[{'en': '$10,000 Gold?', 'fr': 'L’or à 10.000 dollars l’once\\xa0?'}, {'en': 'SAN FRANCISCO – It has never been easy to have a rational conversation about the value of gold.', 'fr': 'SAN FRANCISCO – Il n’a jamais été facile d’avoir une discussion rationnelle sur la valeur du métal jaune.'}]\n"
     ]
    }
   ],
   "source": [
    "import sys\n",
    "sys.path.append('../')\n",
    "from transformer.utils import load_config, get_dataset\n",
    "\n",
    "## Load config\n",
    "config_file_path = \"../config.json\"\n",
    "config = load_config(config_file_path)\n",
    "\n",
    "# Load dataset\n",
    "dataset = get_dataset(config)\n",
    "print(dataset['translation'][:2])"
   ]
  },
  {
   "cell_type": "code",
   "execution_count": null,
   "id": "dd99bb41-cf37-4fdd-b4a2-9153033d5add",
   "metadata": {},
   "outputs": [],
   "source": []
  }
 ],
 "metadata": {
  "kernelspec": {
   "display_name": "Python 3 (ipykernel)",
   "language": "python",
   "name": "python3"
  },
  "language_info": {
   "codemirror_mode": {
    "name": "ipython",
    "version": 3
   },
   "file_extension": ".py",
   "mimetype": "text/x-python",
   "name": "python",
   "nbconvert_exporter": "python",
   "pygments_lexer": "ipython3",
   "version": "3.10.13"
  }
 },
 "nbformat": 4,
 "nbformat_minor": 5
}
