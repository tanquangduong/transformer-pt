{
 "cells": [
  {
   "cell_type": "code",
   "execution_count": 6,
   "id": "7afa40ef-82f4-4c2a-9c04-e199d1a00ecc",
   "metadata": {},
   "outputs": [
    {
     "name": "stdout",
     "output_type": "stream",
     "text": [
      "Initial input tensor: \n",
      " tensor([[[0.3991, 0.5521, 0.1004, 0.2844, 0.9998, 0.7077, 0.8031, 0.2066],\n",
      "         [0.3589, 0.8509, 0.8753, 0.4669, 0.6566, 0.6026, 0.2785, 0.1350],\n",
      "         [0.2257, 0.9548, 0.8214, 0.1386, 0.6055, 0.2300, 0.7895, 0.4098],\n",
      "         [0.0428, 0.4400, 0.2381, 0.4967, 0.8516, 0.4378, 0.4367, 0.0916]]])\n",
      "Output's shape: \n",
      " torch.Size([1, 4, 8])\n",
      "Output: \n",
      " tensor([[[-0.1298, -1.0799, -1.3006, -0.1036,  0.6890,  0.2786,  1.8737,\n",
      "          -0.2274],\n",
      "         [-0.0067, -1.4082, -0.9107, -0.2387,  0.8635,  0.2880,  1.7797,\n",
      "          -0.3669],\n",
      "         [-0.3878, -1.0586, -0.8377, -0.2626,  1.0271, -0.0191,  1.9354,\n",
      "          -0.3967],\n",
      "         [-0.2650, -0.8458, -1.2890, -0.1296,  0.7813,  0.4001,  1.8692,\n",
      "          -0.5212]]], grad_fn=<AddBackward0>)\n"
     ]
    }
   ],
   "source": [
    "import sys\n",
    "sys.path.append('../')\n",
    "import torch\n",
    "from transformer.layers import MultiHeadAttention, FeedForward, LayerNorm\n",
    "from transformer.encoder import EncoderLayer, Encoder\n",
    "\n",
    "# Define the dimensions,, dropout rate, and number of layers\n",
    "d_model = 8 # feature dimension\n",
    "h = 8 #  number of heads\n",
    "dropout = 0.1 # dropout ratio\n",
    "d_ff = 2048 # the dimension of the feed forward network\n",
    "batch = 1 # batch size\n",
    "seq_len = 4 # sequence length\n",
    "\n",
    "num_layers = 6 # number of encoder layer\n",
    "\n",
    "# Create an instance of the MultiHeadAttention and FeedForward classes\n",
    "self_attention_engine = MultiHeadAttention(d_model, h, dropout)\n",
    "feed_forward = FeedForward(d_model, d_ff, dropout)  \n",
    "\n",
    "# Create an instance of the EncoderLayer class\n",
    "encoder_layer = EncoderLayer(d_model, self_attention_engine, feed_forward, dropout)\n",
    "\n",
    "# Create an instance of the Encoder class\n",
    "encoder = Encoder(d_model, encoder_layer, num_layers)\n",
    "\n",
    "# Create a random tensor to represent a batch of sequences\n",
    "torch.manual_seed(68) # for reproducible result of random process\n",
    "x = torch.rand(batch, seq_len, d_model)  \n",
    "\n",
    "# Pass the tensor through the encoder\n",
    "output = encoder(x)\n",
    "\n",
    "print(\"Initial input tensor: \\n\", x)\n",
    "print(\"Output's shape: \\n\", output.shape)  \n",
    "print(\"Output: \\n\", output)"
   ]
  },
  {
   "cell_type": "code",
   "execution_count": null,
   "id": "075b8a80-879b-40c0-b156-bb45c916c2d3",
   "metadata": {},
   "outputs": [],
   "source": []
  }
 ],
 "metadata": {
  "kernelspec": {
   "display_name": "Python 3 (ipykernel)",
   "language": "python",
   "name": "python3"
  },
  "language_info": {
   "codemirror_mode": {
    "name": "ipython",
    "version": 3
   },
   "file_extension": ".py",
   "mimetype": "text/x-python",
   "name": "python",
   "nbconvert_exporter": "python",
   "pygments_lexer": "ipython3",
   "version": "3.10.13"
  }
 },
 "nbformat": 4,
 "nbformat_minor": 5
}
