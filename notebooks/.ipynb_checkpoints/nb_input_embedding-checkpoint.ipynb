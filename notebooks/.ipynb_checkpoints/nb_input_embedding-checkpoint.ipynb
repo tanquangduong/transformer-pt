{
 "cells": [
  {
   "cell_type": "code",
   "execution_count": 3,
   "id": "2e02d91d-87d4-4367-b04d-95612b98424e",
   "metadata": {},
   "outputs": [],
   "source": [
    "import sys\n",
    "sys.path.append('../')\n",
    "import torch\n",
    "from transformer.layers import InputEmbedding"
   ]
  },
  {
   "cell_type": "code",
   "execution_count": 4,
   "id": "5d2d00fd-8a24-4789-b210-a7f8f606181c",
   "metadata": {},
   "outputs": [
    {
     "name": "stdout",
     "output_type": "stream",
     "text": [
      "torch.Size([2, 4, 300])\n"
     ]
    }
   ],
   "source": [
    "# Suppose we have a vocabulary size of 5000 words and we want our embeddings to be of size 300\n",
    "vocab_size = 5000\n",
    "d_model = 300\n",
    "\n",
    "# Create an instance of our InputEmbedding class\n",
    "input_embedding = InputEmbedding(vocab_size, d_model)\n",
    "\n",
    "# Suppose we have the following batch of 2 sequences (mini-batch size of 2)\n",
    "# Each sequence has 4 words (sequence length of 4)\n",
    "# The numbers represent the index of the word in the vocabulary\n",
    "sequences = torch.tensor([[1, 2, 3, 4], [5, 6, 7, 8]])\n",
    "\n",
    "# Pass our sequences through the input embedding\n",
    "embedded_sequences = input_embedding(sequences)\n",
    "\n",
    "print(embedded_sequences.shape)  # Should output: torch.Size([2, 4, 300])"
   ]
  },
  {
   "cell_type": "code",
   "execution_count": 5,
   "id": "e1f6cad0-9c95-4f51-9d03-5d5f4c7be8d5",
   "metadata": {},
   "outputs": [
    {
     "data": {
      "text/plain": [
       "tensor([[1, 2, 3, 4],\n",
       "        [5, 6, 7, 8]])"
      ]
     },
     "execution_count": 5,
     "metadata": {},
     "output_type": "execute_result"
    }
   ],
   "source": [
    "sequences"
   ]
  },
  {
   "cell_type": "code",
   "execution_count": 6,
   "id": "e6b0d119-213e-4c6b-8677-f34196533578",
   "metadata": {},
   "outputs": [
    {
     "data": {
      "text/plain": [
       "torch.Size([2, 4])"
      ]
     },
     "execution_count": 6,
     "metadata": {},
     "output_type": "execute_result"
    }
   ],
   "source": [
    "sequences.shape"
   ]
  },
  {
   "cell_type": "code",
   "execution_count": null,
   "id": "b4c6622c-a917-48a9-a75f-7844493bd2d0",
   "metadata": {},
   "outputs": [],
   "source": []
  }
 ],
 "metadata": {
  "kernelspec": {
   "display_name": "Python 3 (ipykernel)",
   "language": "python",
   "name": "python3"
  },
  "language_info": {
   "codemirror_mode": {
    "name": "ipython",
    "version": 3
   },
   "file_extension": ".py",
   "mimetype": "text/x-python",
   "name": "python",
   "nbconvert_exporter": "python",
   "pygments_lexer": "ipython3",
   "version": "3.10.13"
  }
 },
 "nbformat": 4,
 "nbformat_minor": 5
}
