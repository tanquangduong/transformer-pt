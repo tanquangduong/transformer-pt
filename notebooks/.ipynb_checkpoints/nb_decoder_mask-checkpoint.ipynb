{
 "cells": [
  {
   "cell_type": "code",
   "execution_count": 5,
   "id": "5d0221c2-74f3-4d64-ac00-abdc58fef8e2",
   "metadata": {},
   "outputs": [
    {
     "name": "stdout",
     "output_type": "stream",
     "text": [
      "decoder_input: tensor([ 2, 68, 72, 96,  0,  0,  0,  0])\n",
      "padding_mask: \n",
      " tensor([[1, 1, 1, 1, 0, 0, 0, 0]], dtype=torch.int32)\n",
      "padding_mask shape: torch.Size([1, 8])\n",
      "causal_mask: \n",
      " tensor([[[ True, False, False, False, False, False, False, False],\n",
      "         [ True,  True, False, False, False, False, False, False],\n",
      "         [ True,  True,  True, False, False, False, False, False],\n",
      "         [ True,  True,  True,  True, False, False, False, False],\n",
      "         [ True,  True,  True,  True,  True, False, False, False],\n",
      "         [ True,  True,  True,  True,  True,  True, False, False],\n",
      "         [ True,  True,  True,  True,  True,  True,  True, False],\n",
      "         [ True,  True,  True,  True,  True,  True,  True,  True]]])\n",
      "causal_mask shape: torch.Size([1, 8, 8])\n",
      "decoder_mask: \n",
      " tensor([[[1, 0, 0, 0, 0, 0, 0, 0],\n",
      "         [1, 1, 0, 0, 0, 0, 0, 0],\n",
      "         [1, 1, 1, 0, 0, 0, 0, 0],\n",
      "         [1, 1, 1, 1, 0, 0, 0, 0],\n",
      "         [1, 1, 1, 1, 0, 0, 0, 0],\n",
      "         [1, 1, 1, 1, 0, 0, 0, 0],\n",
      "         [1, 1, 1, 1, 0, 0, 0, 0],\n",
      "         [1, 1, 1, 1, 0, 0, 0, 0]]], dtype=torch.int32)\n",
      "decoder_mask shape: torch.Size([1, 8, 8])\n"
     ]
    }
   ],
   "source": [
    "import torch\n",
    "\n",
    "# Define the token IDs for the decoder\n",
    "decoder_token_ids = torch.tensor([68, 72, 96])\n",
    "sos_token_id = torch.tensor([2]) # SOS token ID\n",
    "pad_token_id = torch.tensor([0]) # padding token ID\n",
    "decoder_padding_num = 4 # number of padding tokens to add to the decoder input\n",
    "seq_len = 8 # sequence length\n",
    "\n",
    "# Create the decoder input by concatenating the SOS token, the decoder token IDs, and the padding tokens\n",
    "decoder_input = torch.cat(\n",
    "            [\n",
    "                sos_token_id,\n",
    "                decoder_token_ids,\n",
    "                pad_token_id.repeat(decoder_padding_num),\n",
    "            ]\n",
    "        )\n",
    "\n",
    "print(\"decoder_input:\", decoder_input)\n",
    "\n",
    "# Create a mask that indicates where the padding tokens are in the decoder input\n",
    "padding_mask = (decoder_input != pad_token_id).unsqueeze(0).int() # (1, seq_len)\n",
    "print(\"padding_mask: \\n\", padding_mask)\n",
    "print(\"padding_mask shape:\", padding_mask.shape)\n",
    "\n",
    "# Create a causal mask that prevents the decoder from seeing future tokens in the sequence\n",
    "causal_mask = torch.triu(torch.ones((1, seq_len, seq_len)), diagonal=1).type(torch.int) == 0\n",
    "print('causal_mask: \\n', causal_mask)\n",
    "print('causal_mask shape:', causal_mask.shape)\n",
    "\n",
    "# Combine the padding mask and the causal mask to create the final decoder mask\n",
    "decoder_mask = padding_mask & causal_mask\n",
    "print('decoder_mask: \\n', decoder_mask)\n",
    "print('decoder_mask shape:', decoder_mask.shape)"
   ]
  },
  {
   "cell_type": "code",
   "execution_count": null,
   "id": "732a0258-293d-4613-98d1-ffabd2adca2e",
   "metadata": {},
   "outputs": [],
   "source": []
  }
 ],
 "metadata": {
  "kernelspec": {
   "display_name": "Python 3 (ipykernel)",
   "language": "python",
   "name": "python3"
  },
  "language_info": {
   "codemirror_mode": {
    "name": "ipython",
    "version": 3
   },
   "file_extension": ".py",
   "mimetype": "text/x-python",
   "name": "python",
   "nbconvert_exporter": "python",
   "pygments_lexer": "ipython3",
   "version": "3.10.13"
  }
 },
 "nbformat": 4,
 "nbformat_minor": 5
}
