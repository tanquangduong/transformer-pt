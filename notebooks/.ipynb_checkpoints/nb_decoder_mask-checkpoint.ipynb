{
 "cells": [
  {
   "cell_type": "code",
   "execution_count": 2,
   "id": "fe4b9b81-4863-464f-998f-ce443b6f10ac",
   "metadata": {},
   "outputs": [],
   "source": [
    "import torch"
   ]
  },
  {
   "cell_type": "code",
   "execution_count": 16,
   "id": "13767254-cf29-4aba-a8ae-214b08195c67",
   "metadata": {},
   "outputs": [
    {
     "name": "stdout",
     "output_type": "stream",
     "text": [
      "decoder_input: tensor([ 2, 68, 72, 96,  0,  0,  0])\n"
     ]
    }
   ],
   "source": [
    "decoder_token_ids = torch.tensor([68, 72, 96])\n",
    "sos_token_id = torch.tensor([2])\n",
    "pad_token_id = torch.tensor([0])\n",
    "decoder_padding_num = 3\n",
    "seq_len = 7\n",
    "\n",
    "decoder_input = torch.cat(\n",
    "            [\n",
    "                sos_token_id,\n",
    "                decoder_token_ids,\n",
    "                pad_token_id.repeat(decoder_padding_num),\n",
    "            ]\n",
    "        )\n",
    "\n",
    "print(\"decoder_input:\", decoder_input)"
   ]
  },
  {
   "cell_type": "code",
   "execution_count": 17,
   "id": "f0bde003-c82e-47b7-a62b-f8b34871e249",
   "metadata": {},
   "outputs": [
    {
     "name": "stdout",
     "output_type": "stream",
     "text": [
      "padding_mask: tensor([[1, 1, 1, 1, 0, 0, 0]], dtype=torch.int32)\n",
      "padding_mask shape: torch.Size([1, 7])\n"
     ]
    }
   ],
   "source": [
    "padding_mask = (decoder_input != pad_token_id).unsqueeze(0).int() # (1, seq_len)\n",
    "print(\"padding_mask:\", padding_mask)\n",
    "print(\"padding_mask shape:\", padding_mask.shape)"
   ]
  },
  {
   "cell_type": "code",
   "execution_count": 18,
   "id": "fe04c8fb-4733-487a-abf4-a5d64d39f330",
   "metadata": {},
   "outputs": [
    {
     "name": "stdout",
     "output_type": "stream",
     "text": [
      "causal_mask: tensor([[False, False, False, False, False, False, False],\n",
      "        [ True, False, False, False, False, False, False],\n",
      "        [ True,  True, False, False, False, False, False],\n",
      "        [ True,  True,  True, False, False, False, False],\n",
      "        [ True,  True,  True,  True, False, False, False],\n",
      "        [ True,  True,  True,  True,  True, False, False],\n",
      "        [ True,  True,  True,  True,  True,  True, False]])\n",
      "causal_mask shape: torch.Size([7, 7])\n"
     ]
    }
   ],
   "source": [
    "causal_mask = torch.triu(torch.ones(seq_len, seq_len)).int() == 0 # (seq_len, seq_len)\n",
    "print('causal_mask:', causal_mask)\n",
    "print('causal_mask shape:', causal_mask.shape)"
   ]
  },
  {
   "cell_type": "code",
   "execution_count": null,
   "id": "e35f27e4-26a6-4952-a311-a357693db235",
   "metadata": {},
   "outputs": [],
   "source": []
  }
 ],
 "metadata": {
  "kernelspec": {
   "display_name": "Python 3 (ipykernel)",
   "language": "python",
   "name": "python3"
  },
  "language_info": {
   "codemirror_mode": {
    "name": "ipython",
    "version": 3
   },
   "file_extension": ".py",
   "mimetype": "text/x-python",
   "name": "python",
   "nbconvert_exporter": "python",
   "pygments_lexer": "ipython3",
   "version": "3.10.13"
  }
 },
 "nbformat": 4,
 "nbformat_minor": 5
}
