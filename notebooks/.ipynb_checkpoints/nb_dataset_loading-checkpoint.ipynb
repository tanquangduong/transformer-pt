{
 "cells": [
  {
   "cell_type": "code",
   "execution_count": 31,
   "id": "e1cd6957-c90a-46cf-ae0f-c19907b7fe10",
   "metadata": {},
   "outputs": [],
   "source": [
    "import sys\n",
    "sys.path.append('../')\n",
    "from transformer.utils import load_config, get_dataset"
   ]
  },
  {
   "cell_type": "markdown",
   "id": "14ed60d6-a616-4f0b-8e5d-72edda15698c",
   "metadata": {},
   "source": [
    "## Load config"
   ]
  },
  {
   "cell_type": "code",
   "execution_count": 36,
   "id": "934c333a-865c-4bb4-ad96-1b79dbbb8e6a",
   "metadata": {},
   "outputs": [],
   "source": [
    "config_file_path = \"../config.json\"\n",
    "config = load_config(config_file_path)"
   ]
  },
  {
   "cell_type": "markdown",
   "id": "66f7136f-9789-4c42-9f88-fe094c77f6f3",
   "metadata": {},
   "source": [
    "## Load dataset"
   ]
  },
  {
   "cell_type": "code",
   "execution_count": 40,
   "id": "7e44b8c3-5026-4c42-acfb-98456dea83b1",
   "metadata": {},
   "outputs": [],
   "source": [
    "dataset = get_dataset(config)"
   ]
  },
  {
   "cell_type": "code",
   "execution_count": 38,
   "id": "9820d982-a88a-4f0d-8e3a-7fdc40bf7cc2",
   "metadata": {},
   "outputs": [
    {
     "data": {
      "text/plain": [
       "Dataset({\n",
       "    features: ['id', 'translation'],\n",
       "    num_rows: 209479\n",
       "})"
      ]
     },
     "execution_count": 38,
     "metadata": {},
     "output_type": "execute_result"
    }
   ],
   "source": [
    "dataset"
   ]
  },
  {
   "cell_type": "code",
   "execution_count": 39,
   "id": "abe6b34b-5649-4f09-a37a-77357a42f75b",
   "metadata": {
    "scrolled": true
   },
   "outputs": [
    {
     "data": {
      "text/plain": [
       "[{'en': '$10,000 Gold?', 'fr': 'L’or à 10.000 dollars l’once\\xa0?'},\n",
       " {'en': 'SAN FRANCISCO – It has never been easy to have a rational conversation about the value of gold.',\n",
       "  'fr': 'SAN FRANCISCO – Il n’a jamais été facile d’avoir une discussion rationnelle sur la valeur du métal jaune.'},\n",
       " {'en': 'Lately, with gold prices up more than 300% over the last decade, it is harder than ever.',\n",
       "  'fr': 'Et aujourd’hui, alors que le cours de l’or a augmenté de 300 pour cent au cours de la dernière décennie, c’est plus difficile que jamais.'},\n",
       " {'en': 'Just last December, fellow economists Martin Feldstein and Nouriel Roubini each penned op-eds bravely questioning bullish market sentiment, sensibly pointing out gold’s risks.',\n",
       "  'fr': 'En décembre dernier, mes collègues économistes Martin Feldstein et Nouriel Roubini ont chacun publié une tribune libre dans laquelle ils doutaient courageusement du marché haussier, soulignant de manière sensée les risques liés à l’or.'},\n",
       " {'en': 'Wouldn’t you know it?', 'fr': 'Mais devinez ce qui s’est passé\\xa0?'},\n",
       " {'en': 'Since their articles appeared, the price of gold has moved up still further. Gold prices even hit a record-high $1,300 recently.',\n",
       "  'fr': 'Depuis la parution de leurs articles, le cours de l’or a encore grimpé, pour atteindre récemment un plus haut historique de 1300 dollars l’once.'},\n",
       " {'en': 'Last December, many gold bugs were arguing that the price was inevitably headed for $2,000.',\n",
       "  'fr': 'En décembre dernier, plusieurs investisseurs dans le métal jaune estimaient que l’once atteindrait inévitablement les 2000 dollars.'},\n",
       " {'en': 'Now, emboldened by continuing appreciation, some are suggesting that gold could be headed even higher than that.',\n",
       "  'fr': 'Aujourd’hui, encouragés par son appréciation constante, certains suggèrent qu’il pourrait grimper encore.'},\n",
       " {'en': 'One successful gold investor recently explained to me that stock prices languished for a more than a decade before the Dow Jones index crossed the 1,000 mark in the early 1980’s.',\n",
       "  'fr': 'Un particulier qui a investi avec succès dans le métal précieux m’a récemment expliqué que les cours de la Bourse avaient stagné pendant une décennie avant que l’indice Dow Jones passe la barre des 1000 points.'},\n",
       " {'en': 'Since then, the index has climbed above 10,000.',\n",
       "  'fr': 'Depuis lors, le Dow Jones a dépassé la barre des 10.000 points.'}]"
      ]
     },
     "execution_count": 39,
     "metadata": {},
     "output_type": "execute_result"
    }
   ],
   "source": [
    "dataset['translation'][:10]"
   ]
  },
  {
   "cell_type": "code",
   "execution_count": null,
   "id": "73d8a44f-2871-4e9e-8319-0275a9792746",
   "metadata": {},
   "outputs": [],
   "source": []
  }
 ],
 "metadata": {
  "kernelspec": {
   "display_name": "Python 3 (ipykernel)",
   "language": "python",
   "name": "python3"
  },
  "language_info": {
   "codemirror_mode": {
    "name": "ipython",
    "version": 3
   },
   "file_extension": ".py",
   "mimetype": "text/x-python",
   "name": "python",
   "nbconvert_exporter": "python",
   "pygments_lexer": "ipython3",
   "version": "3.10.13"
  }
 },
 "nbformat": 4,
 "nbformat_minor": 5
}
