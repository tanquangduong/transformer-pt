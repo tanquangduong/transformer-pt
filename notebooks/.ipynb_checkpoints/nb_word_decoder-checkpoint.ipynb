{
 "cells": [
  {
   "cell_type": "code",
   "execution_count": 7,
   "id": "f69591c3-8090-40e6-bc2b-5094a7b0af8d",
   "metadata": {},
   "outputs": [],
   "source": [
    "import sys\n",
    "sys.path.append('../')\n",
    "import torch\n",
    "from transformers import CamembertTokenizer # note that 'transformers' is HuggingFace package\n",
    "from transformer.layers import Projection, WordDecoder # here is our 'transformer' (without 's')\n",
    "from transformer.utils import create_tranformer_model"
   ]
  },
  {
   "cell_type": "code",
   "execution_count": 8,
   "id": "4e0ac961-0613-430a-a835-cf889fde65f6",
   "metadata": {},
   "outputs": [],
   "source": [
    "# Define the dimensions and vocabulary size\n",
    "# Define the parameters for the transformer model\n",
    "vocab_size_src = 10000\n",
    "vocab_size_tgt = 10000\n",
    "d_model = 512\n",
    "num_layers = 6\n",
    "h = 8\n",
    "d_ff = 2048\n",
    "dropout = 0.1\n",
    "seq_len = 100\n",
    "batch_size=1\n",
    "\n",
    "# Create the transformer model\n",
    "transformer = create_tranformer_model(\n",
    "    vocab_size_src,\n",
    "    vocab_size_tgt,\n",
    "    d_model,\n",
    "    num_layers,\n",
    "    h,\n",
    "    d_ff,\n",
    "    dropout,\n",
    "    seq_len,\n",
    ")\n",
    "\n",
    "# Now you can use the transformer model for encoding, decoding, and projecting\n",
    "# For example, to encode a batch of source sequences:\n",
    "src = torch.randint(0, vocab_size_src, (batch_size, seq_len))  # [batch_size, seq_len]\n",
    "encoder_output = transformer.encode(src)\n",
    "\n",
    "# And to decode a batch of target sequences:\n",
    "tgt = torch.randint(0, vocab_size_tgt, (batch_size, seq_len))  # [batch_size, seq_len]\n",
    "decoder_output = transformer.decode(tgt, encoder_output)\n",
    "\n",
    "# And to project the decoder output:\n",
    "projected_output = transformer.project(decoder_output)"
   ]
  },
  {
   "cell_type": "code",
   "execution_count": 9,
   "id": "ac73593e-5aeb-439d-aaeb-cb6305c70522",
   "metadata": {},
   "outputs": [
    {
     "name": "stdout",
     "output_type": "stream",
     "text": [
      "torch.Size([1, 100, 10000])\n"
     ]
    }
   ],
   "source": [
    "print(projected_output.shape)"
   ]
  },
  {
   "cell_type": "markdown",
   "id": "24152994-d249-4368-be56-1f67a50ab22d",
   "metadata": {},
   "source": [
    "## Word decode"
   ]
  },
  {
   "cell_type": "code",
   "execution_count": 10,
   "id": "1b0a127b-5f63-4792-a5f7-309d85c71d1a",
   "metadata": {},
   "outputs": [
    {
     "name": "stderr",
     "output_type": "stream",
     "text": [
      "Special tokens have been added in the vocabulary, make sure the associated word embeddings are fine-tuned or trained.\n"
     ]
    },
    {
     "name": "stdout",
     "output_type": "stream",
     "text": [
      "[['fille', 'IP', 'IP', 'IP', 'validation', 'IP', 'IP', 'IP', 'IP', 'IP', 'IP', 'IP', 'IP', 'IP', 'IP', 'IP', 'IP', 'IP', 'IP', 'IP', 'IP', 'IP', 'IP', 'IP', 'IP', 'IP', 'IP', 'IP', 'IP', 'IP', 'IP', 'IP', 'IP', 'IP', 'IP', 'fille', 'IP', 'IP', 'IP', 'IP', 'IP', 'IP', 'fille', 'IP', 'IP', 'fille', 'IP', 'IP', 'IP', 'IP', 'IP', 'fille', 'IP', 'IP', 'fille', 'IP', 'IP', 'IP', 'fille', 'IP', 'IP', 'IP', 'IP', 'IP', 'IP', 'IP', 'IP', 'IP', 'IP', 'IP', 'IP', 'IP', 'IP', 'IP', 'IP', 'IP', 'IP', 'IP', 'IP', 'IP', 'IP', 'IP', 'IP', 'IP', 'IP', 'IP', 'fille', 'IP', 'IP', 'IP', 'IP', 'IP', 'IP', 'IP', 'IP', 'IP', 'IP', 'IP', 'IP', 'IP']]\n"
     ]
    }
   ],
   "source": [
    "# Create an instance of the CamembertTokenizer\n",
    "tokenizer = CamembertTokenizer.from_pretrained('camembert-base')\n",
    "\n",
    "# Create an instance of the WordDecoder class\n",
    "word_decoder = WordDecoder(tokenizer)\n",
    "\n",
    "# Pass the tensor through the word decoder\n",
    "decoded_word = word_decoder(projected_output)\n",
    "\n",
    "print(decoded_word)  # Should print a word"
   ]
  },
  {
   "cell_type": "code",
   "execution_count": null,
   "id": "47136ca5-3969-4b20-b822-665bfe59fa53",
   "metadata": {},
   "outputs": [],
   "source": []
  }
 ],
 "metadata": {
  "kernelspec": {
   "display_name": "Python 3 (ipykernel)",
   "language": "python",
   "name": "python3"
  },
  "language_info": {
   "codemirror_mode": {
    "name": "ipython",
    "version": 3
   },
   "file_extension": ".py",
   "mimetype": "text/x-python",
   "name": "python",
   "nbconvert_exporter": "python",
   "pygments_lexer": "ipython3",
   "version": "3.10.13"
  }
 },
 "nbformat": 4,
 "nbformat_minor": 5
}
