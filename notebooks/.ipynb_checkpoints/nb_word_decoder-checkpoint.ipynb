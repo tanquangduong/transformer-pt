{
 "cells": [
  {
   "cell_type": "code",
   "execution_count": 1,
   "id": "f69591c3-8090-40e6-bc2b-5094a7b0af8d",
   "metadata": {},
   "outputs": [],
   "source": [
    "import sys\n",
    "sys.path.append('../')\n",
    "import torch\n",
    "from transformer.utils import create_tranformer_model\n",
    "from transformer.utils import load_config, get_dataset, get_tokenizer"
   ]
  },
  {
   "cell_type": "markdown",
   "id": "4544439d-87c4-4514-9c15-333467e1acba",
   "metadata": {},
   "source": [
    "## Get Config, dataset, tokenizers"
   ]
  },
  {
   "cell_type": "code",
   "execution_count": 2,
   "id": "a628c28a-d698-4015-9ac6-8bd4e0621e2f",
   "metadata": {},
   "outputs": [],
   "source": [
    "config_file_path = \"../config.json\"\n",
    "config = load_config(config_file_path)\n",
    "dataset = get_dataset(config)\n",
    "tokenizer_src = get_tokenizer(config, dataset, config['language_source'])\n",
    "tokenizer_tgt = get_tokenizer(config, dataset, config['language_target'])"
   ]
  },
  {
   "cell_type": "markdown",
   "id": "312fb4a9-67ab-4809-bd21-c382c309d665",
   "metadata": {},
   "source": [
    "## Define model, random input and get random output"
   ]
  },
  {
   "cell_type": "code",
   "execution_count": 5,
   "id": "4e0ac961-0613-430a-a835-cf889fde65f6",
   "metadata": {},
   "outputs": [],
   "source": [
    "# Define the dimensions and vocabulary size\n",
    "# Define the parameters for the transformer model\n",
    "vocab_size_src = 10000\n",
    "vocab_size_tgt = 10000\n",
    "seq_len = 100\n",
    "batch_size=1\n",
    "\n",
    "# Create the transformer model\n",
    "transformer = create_tranformer_model(\n",
    "    config,\n",
    "    vocab_size_src,\n",
    "    vocab_size_tgt,\n",
    ")\n",
    "\n",
    "# Now you can use the transformer model for encoding, decoding, and projecting\n",
    "# For example, to encode a batch of source sequences:\n",
    "src = torch.randint(0, vocab_size_src, (batch_size, seq_len))  # [batch_size, seq_len]\n",
    "encoder_output = transformer.encode(src)\n",
    "\n",
    "# And to decode a batch of target sequences:\n",
    "tgt = torch.randint(0, vocab_size_tgt, (batch_size, seq_len))  # [batch_size, seq_len]\n",
    "decoder_output = transformer.decode(tgt, encoder_output)\n",
    "\n",
    "# And to project the decoder output:\n",
    "projected_output = transformer.project(decoder_output)"
   ]
  },
  {
   "cell_type": "code",
   "execution_count": 6,
   "id": "ac73593e-5aeb-439d-aaeb-cb6305c70522",
   "metadata": {},
   "outputs": [
    {
     "name": "stdout",
     "output_type": "stream",
     "text": [
      "torch.Size([1, 100, 10000])\n"
     ]
    }
   ],
   "source": [
    "print(projected_output.shape)"
   ]
  },
  {
   "cell_type": "code",
   "execution_count": 7,
   "id": "ba341abc-b470-451f-9295-89beffa6e14d",
   "metadata": {},
   "outputs": [],
   "source": [
    "_, predicted_tokens = torch.max(projected_output, dim=1) # predicted_token is the indice of the max value in projection_output, meaning the\n",
    "predicted_tokens = predicted_tokens.squeeze(0)\n",
    "predicted_tokens = predicted_tokens.detach().cpu().numpy()"
   ]
  },
  {
   "cell_type": "markdown",
   "id": "12cd00aa-dde7-4b17-9221-768cca0e1ba3",
   "metadata": {},
   "source": [
    "## Find the EOS token"
   ]
  },
  {
   "cell_type": "code",
   "execution_count": 8,
   "id": "33d82725-b8f8-4644-8349-47745b7d6b91",
   "metadata": {},
   "outputs": [
    {
     "name": "stdout",
     "output_type": "stream",
     "text": [
      "70\n"
     ]
    }
   ],
   "source": [
    "for idx, eos in enumerate(predicted_tokens):\n",
    "    if eos == 3:\n",
    "        eos_idx = idx\n",
    "        print(idx)\n",
    "        break"
   ]
  },
  {
   "cell_type": "markdown",
   "id": "8470af15-cbd7-455c-9dba-ec2331bcb129",
   "metadata": {},
   "source": [
    "## Get predicted sequence until EOS"
   ]
  },
  {
   "cell_type": "code",
   "execution_count": 9,
   "id": "84ac8111-2da1-4390-9de4-93b0ea778886",
   "metadata": {},
   "outputs": [],
   "source": [
    "predicted_token_sequence = predicted_tokens[:eos_idx]"
   ]
  },
  {
   "cell_type": "markdown",
   "id": "24152994-d249-4368-be56-1f67a50ab22d",
   "metadata": {},
   "source": [
    "## Word decode"
   ]
  },
  {
   "cell_type": "code",
   "execution_count": 10,
   "id": "cf0d8d0f-4b11-4de5-a9d2-73b876f6d8e6",
   "metadata": {},
   "outputs": [
    {
     "data": {
      "text/plain": [
       "70"
      ]
     },
     "execution_count": 10,
     "metadata": {},
     "output_type": "execute_result"
    }
   ],
   "source": [
    "len(predicted_token_sequence)"
   ]
  },
  {
   "cell_type": "code",
   "execution_count": 11,
   "id": "1b0a127b-5f63-4792-a5f7-309d85c71d1a",
   "metadata": {},
   "outputs": [
    {
     "name": "stdout",
     "output_type": "stream",
     "text": [
      "faire sur du Chine - ’ d plus ( cette son gouvernement du Europe un sont ’ bien a s se sans tout politiques s ’ était qu que mais entre ont mais pas avec les leurs économique politique pas pour économique ’ qu elle sur qu – n ils l Europe la ou nous : monde à faire tout les qui Les Unis ; nous politique autres\n"
     ]
    }
   ],
   "source": [
    "# Pass the tensor through the target tokenizer\n",
    "decoded_words = tokenizer_tgt.decode(predicted_token_sequence)\n",
    "\n",
    "print(decoded_words)  # Should print a word"
   ]
  },
  {
   "cell_type": "code",
   "execution_count": null,
   "id": "47136ca5-3969-4b20-b822-665bfe59fa53",
   "metadata": {},
   "outputs": [],
   "source": []
  }
 ],
 "metadata": {
  "kernelspec": {
   "display_name": "Python 3 (ipykernel)",
   "language": "python",
   "name": "python3"
  },
  "language_info": {
   "codemirror_mode": {
    "name": "ipython",
    "version": 3
   },
   "file_extension": ".py",
   "mimetype": "text/x-python",
   "name": "python",
   "nbconvert_exporter": "python",
   "pygments_lexer": "ipython3",
   "version": "3.10.13"
  }
 },
 "nbformat": 4,
 "nbformat_minor": 5
}
