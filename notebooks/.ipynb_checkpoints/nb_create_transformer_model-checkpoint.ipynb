{
 "cells": [
  {
   "cell_type": "code",
   "execution_count": 1,
   "id": "4f07d9a7-6e9a-4d72-8586-1c61e4bc3a3a",
   "metadata": {},
   "outputs": [],
   "source": [
    "import sys\n",
    "sys.path.append('../')\n",
    "import torch\n",
    "from transformer.utils import create_tranformer_model"
   ]
  },
  {
   "cell_type": "code",
   "execution_count": 3,
   "id": "2d1700e2-b6b0-43d7-8b66-a4c248c1f4b8",
   "metadata": {},
   "outputs": [],
   "source": [
    "# Define the parameters for the transformer model\n",
    "vocab_size_src = 10000\n",
    "vocab_size_tgt = 10000\n",
    "d_model = 512\n",
    "num_layers = 6\n",
    "h = 8\n",
    "d_ff = 2048\n",
    "dropout = 0.1\n",
    "seq_len = 100\n",
    "batch_size=1\n",
    "\n",
    "# Create the transformer model\n",
    "transformer = create_tranformer_model(\n",
    "    vocab_size_src,\n",
    "    vocab_size_tgt,\n",
    "    d_model,\n",
    "    num_layers,\n",
    "    h,\n",
    "    d_ff,\n",
    "    dropout,\n",
    "    seq_len,\n",
    ")\n",
    "\n",
    "# Now you can use the transformer model for encoding, decoding, and projecting\n",
    "# For example, to encode a batch of source sequences:\n",
    "src = torch.randint(0, vocab_size_src, (batch_size, seq_len))  # [batch_size, seq_len]\n",
    "encoder_output = transformer.encode(src)\n",
    "\n",
    "# And to decode a batch of target sequences:\n",
    "tgt = torch.randint(0, vocab_size_tgt, (batch_size, seq_len))  # [batch_size, seq_len]\n",
    "decoder_output = transformer.decode(tgt, encoder_output)\n",
    "\n",
    "# And to project the decoder output:\n",
    "projected_output = transformer.project(decoder_output)"
   ]
  },
  {
   "cell_type": "code",
   "execution_count": 4,
   "id": "44a3f44a-df08-4c43-832f-b75e8d43e237",
   "metadata": {},
   "outputs": [
    {
     "data": {
      "text/plain": [
       "torch.Size([1, 100, 10000])"
      ]
     },
     "execution_count": 4,
     "metadata": {},
     "output_type": "execute_result"
    }
   ],
   "source": [
    "projected_output.shape"
   ]
  },
  {
   "cell_type": "code",
   "execution_count": 5,
   "id": "a5efe0fd-bbcf-4783-b038-284b8e6481af",
   "metadata": {},
   "outputs": [
    {
     "data": {
      "text/plain": [
       "tensor([[[-0.1803,  0.3911, -0.0476,  ..., -0.1733,  0.6228, -0.0915],\n",
       "         [-0.1594,  0.4655,  0.0120,  ..., -0.2472,  0.6190, -0.1681],\n",
       "         [-0.2382,  0.4061, -0.0707,  ..., -0.1848,  0.5542, -0.1488],\n",
       "         ...,\n",
       "         [-0.0746,  0.3235, -0.0130,  ..., -0.2172,  0.5353, -0.2907],\n",
       "         [-0.0560,  0.4779, -0.0615,  ..., -0.1943,  0.5293, -0.0881],\n",
       "         [-0.0801,  0.4794, -0.0535,  ..., -0.2982,  0.5722, -0.0712]]],\n",
       "       grad_fn=<ViewBackward0>)"
      ]
     },
     "execution_count": 5,
     "metadata": {},
     "output_type": "execute_result"
    }
   ],
   "source": [
    "projected_output"
   ]
  },
  {
   "cell_type": "code",
   "execution_count": null,
   "id": "16039004-b787-41ec-9412-79bd4ed75db7",
   "metadata": {},
   "outputs": [],
   "source": []
  }
 ],
 "metadata": {
  "kernelspec": {
   "display_name": "Python 3 (ipykernel)",
   "language": "python",
   "name": "python3"
  },
  "language_info": {
   "codemirror_mode": {
    "name": "ipython",
    "version": 3
   },
   "file_extension": ".py",
   "mimetype": "text/x-python",
   "name": "python",
   "nbconvert_exporter": "python",
   "pygments_lexer": "ipython3",
   "version": "3.10.13"
  }
 },
 "nbformat": 4,
 "nbformat_minor": 5
}
