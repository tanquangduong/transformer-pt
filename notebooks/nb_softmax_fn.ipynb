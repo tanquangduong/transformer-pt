{
 "cells": [
  {
   "cell_type": "code",
   "execution_count": 1,
   "id": "9c3d14f2-d115-489d-bbed-839fadd603fc",
   "metadata": {},
   "outputs": [
    {
     "name": "stdout",
     "output_type": "stream",
     "text": [
      "input_tensor: \n",
      " tensor([0.1230, 0.2640,   -inf])\n",
      "output_tensor: \n",
      " tensor([0.4648, 0.5352, 0.0000])\n"
     ]
    }
   ],
   "source": [
    "import torch\n",
    "import numpy as np\n",
    "\n",
    "# create an input tensor\n",
    "input_tensor = torch.tensor([0.123, 0.264, -np.inf])\n",
    "\n",
    "# apply softmax to the input tensor to obtain the output tensor\n",
    "output_tensor = torch.softmax(input_tensor, dim=0)\n",
    "\n",
    "print(\"input_tensor: \\n\", input_tensor)\n",
    "print(\"output_tensor: \\n\", output_tensor)"
   ]
  },
  {
   "cell_type": "code",
   "execution_count": 1,
   "id": "eef70183-007e-4761-a2e3-78be63360054",
   "metadata": {},
   "outputs": [
    {
     "name": "stdout",
     "output_type": "stream",
     "text": [
      "input_tensor: \n",
      " tensor([1., 2., 4.])\n",
      "output_tensor: \n",
      " tensor([0.0420, 0.1142, 0.8438])\n"
     ]
    }
   ],
   "source": [
    "import torch\n",
    "import numpy as np\n",
    "\n",
    "# create an input tensor\n",
    "input_tensor = torch.tensor([1.0, 2.0, 4.0])\n",
    "\n",
    "# apply softmax to the input tensor to obtain the output tensor\n",
    "output_tensor = torch.softmax(input_tensor, dim=0)\n",
    "\n",
    "print(\"input_tensor: \\n\", input_tensor)\n",
    "print(\"output_tensor: \\n\", output_tensor)"
   ]
  },
  {
   "cell_type": "code",
   "execution_count": 2,
   "id": "3a496b8a-c673-47d0-aecc-9363f8c90f4f",
   "metadata": {},
   "outputs": [],
   "source": [
    "denominator = np.exp(1.0) + np.exp(2.0) + np.exp(4.0)"
   ]
  },
  {
   "cell_type": "code",
   "execution_count": 3,
   "id": "360bccba-5a01-4a4a-82dc-0560e5d2bba1",
   "metadata": {},
   "outputs": [
    {
     "data": {
      "text/plain": [
       "0.04201006613406605"
      ]
     },
     "execution_count": 3,
     "metadata": {},
     "output_type": "execute_result"
    }
   ],
   "source": [
    "y0 = np.exp(1.0)/denominator\n",
    "y0 "
   ]
  },
  {
   "cell_type": "code",
   "execution_count": 4,
   "id": "63181dc4-6e23-46fc-916f-1bab561c75a3",
   "metadata": {},
   "outputs": [
    {
     "data": {
      "text/plain": [
       "0.11419519938459449"
      ]
     },
     "execution_count": 4,
     "metadata": {},
     "output_type": "execute_result"
    }
   ],
   "source": [
    "y1 = np.exp(2.0)/denominator\n",
    "y1 "
   ]
  },
  {
   "cell_type": "code",
   "execution_count": 5,
   "id": "85aee55b-f194-4c7f-a6be-8da0aadef6c2",
   "metadata": {},
   "outputs": [
    {
     "data": {
      "text/plain": [
       "0.8437947344813395"
      ]
     },
     "execution_count": 5,
     "metadata": {},
     "output_type": "execute_result"
    }
   ],
   "source": [
    "y2= np.exp(4.0)/denominator\n",
    "y2 "
   ]
  },
  {
   "cell_type": "code",
   "execution_count": null,
   "id": "4c4337ec-4161-41fe-bf7a-954c6db7f263",
   "metadata": {},
   "outputs": [],
   "source": []
  }
 ],
 "metadata": {
  "kernelspec": {
   "display_name": "Python 3 (ipykernel)",
   "language": "python",
   "name": "python3"
  },
  "language_info": {
   "codemirror_mode": {
    "name": "ipython",
    "version": 3
   },
   "file_extension": ".py",
   "mimetype": "text/x-python",
   "name": "python",
   "nbconvert_exporter": "python",
   "pygments_lexer": "ipython3",
   "version": "3.10.13"
  }
 },
 "nbformat": 4,
 "nbformat_minor": 5
}
