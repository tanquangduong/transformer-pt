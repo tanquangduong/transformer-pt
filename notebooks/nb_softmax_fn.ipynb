{
 "cells": [
  {
   "cell_type": "code",
   "execution_count": 1,
   "id": "9c3d14f2-d115-489d-bbed-839fadd603fc",
   "metadata": {},
   "outputs": [
    {
     "name": "stdout",
     "output_type": "stream",
     "text": [
      "input_tensor: \n",
      " tensor([0.1230, 0.2640,   -inf])\n",
      "output_tensor: \n",
      " tensor([0.4648, 0.5352, 0.0000])\n"
     ]
    }
   ],
   "source": [
    "import torch\n",
    "import numpy as np\n",
    "\n",
    "# create an input tensor\n",
    "input_tensor = torch.tensor([0.123, 0.264, -np.inf])\n",
    "\n",
    "# apply softmax to the input tensor to obtain the output tensor\n",
    "output_tensor = torch.softmax(input_tensor, dim=0)\n",
    "\n",
    "print(\"input_tensor: \\n\", input_tensor)\n",
    "print(\"output_tensor: \\n\", output_tensor)"
   ]
  },
  {
   "cell_type": "code",
   "execution_count": null,
   "id": "eef70183-007e-4761-a2e3-78be63360054",
   "metadata": {},
   "outputs": [],
   "source": []
  }
 ],
 "metadata": {
  "kernelspec": {
   "display_name": "Python 3 (ipykernel)",
   "language": "python",
   "name": "python3"
  },
  "language_info": {
   "codemirror_mode": {
    "name": "ipython",
    "version": 3
   },
   "file_extension": ".py",
   "mimetype": "text/x-python",
   "name": "python",
   "nbconvert_exporter": "python",
   "pygments_lexer": "ipython3",
   "version": "3.10.13"
  }
 },
 "nbformat": 4,
 "nbformat_minor": 5
}
