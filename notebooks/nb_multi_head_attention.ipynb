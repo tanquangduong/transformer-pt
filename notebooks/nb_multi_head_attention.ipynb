{
 "cells": [
  {
   "cell_type": "markdown",
   "id": "e74b2a44-87df-4964-a7f7-1c993697b132",
   "metadata": {},
   "source": [
    "## Example to calculate multi-head attention"
   ]
  },
  {
   "cell_type": "code",
   "execution_count": 9,
   "id": "bc42ade3-282c-4865-baf9-3af0684e9b3d",
   "metadata": {},
   "outputs": [
    {
     "name": "stdout",
     "output_type": "stream",
     "text": [
      "torch.Size([10, 20, 512])\n"
     ]
    }
   ],
   "source": [
    "import sys\n",
    "sys.path.append('../')\n",
    "import torch\n",
    "from transformer.layers import MultiHeadAttention\n",
    "\n",
    "# Define the dimensions, number of heads, and dropout rate\n",
    "d_model = 512\n",
    "h = 8\n",
    "dropout = 0.1\n",
    "batch_size=10\n",
    "seq_len=20\n",
    "\n",
    "# Create an instance of the MultiHeadAttention class\n",
    "multi_head_attention = MultiHeadAttention(d_model, h, dropout)\n",
    "\n",
    "# Create random tensors to represent a batch of sequences for query, key, and value\n",
    "input_tensor = torch.rand(batch_size, seq_len, d_model)\n",
    "# Copy input_tensor to new tensors: query, key, value. \n",
    "# Note that these are deep copies, so changes to the new tensors will not affect the original tensor.\n",
    "query = input_tensor.clone()\n",
    "key = input_tensor.clone()\n",
    "value = input_tensor.clone()\n",
    "\n",
    "# Pass the tensors through the multi-head attention layer\n",
    "output = multi_head_attention(query, key, value)\n",
    "\n",
    "print(output.shape)  # Should print: torch.Size([10, 20, 512])"
   ]
  },
  {
   "cell_type": "code",
   "execution_count": null,
   "id": "f110e64a-f163-432b-8b75-896013c568bc",
   "metadata": {},
   "outputs": [],
   "source": []
  }
 ],
 "metadata": {
  "kernelspec": {
   "display_name": "Python 3 (ipykernel)",
   "language": "python",
   "name": "python3"
  },
  "language_info": {
   "codemirror_mode": {
    "name": "ipython",
    "version": 3
   },
   "file_extension": ".py",
   "mimetype": "text/x-python",
   "name": "python",
   "nbconvert_exporter": "python",
   "pygments_lexer": "ipython3",
   "version": "3.10.13"
  }
 },
 "nbformat": 4,
 "nbformat_minor": 5
}
