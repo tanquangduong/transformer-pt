{
 "cells": [
  {
   "cell_type": "markdown",
   "id": "e74b2a44-87df-4964-a7f7-1c993697b132",
   "metadata": {},
   "source": [
    "## Example to calculate multi-head attention"
   ]
  },
  {
   "cell_type": "code",
   "execution_count": 9,
   "id": "bc42ade3-282c-4865-baf9-3af0684e9b3d",
   "metadata": {},
   "outputs": [
    {
     "name": "stdout",
     "output_type": "stream",
     "text": [
      "attention: \n",
      " tensor([[[-0.0034, -0.1080, -0.0033, -0.2910,  0.0825,  0.0189],\n",
      "         [ 0.1780, -0.0399,  0.0114, -0.3136,  0.1660,  0.1374],\n",
      "         [ 0.1080, -0.0825,  0.0106, -0.3856,  0.1666,  0.0923],\n",
      "         [ 0.0949, -0.0930,  0.0261, -0.3533,  0.1659,  0.1103],\n",
      "         [ 0.1248, -0.0741,  0.0294, -0.3720,  0.1907,  0.1095]]],\n",
      "       grad_fn=<UnsafeViewBackward0>)\n",
      "attention shape: \n",
      " torch.Size([1, 5, 6])\n"
     ]
    }
   ],
   "source": [
    "import sys\n",
    "sys.path.append('../')\n",
    "import torch\n",
    "from transformer.layer import MultiHeadAttention\n",
    "\n",
    "# Initiate config\n",
    "batch_size=1\n",
    "seq_len=5\n",
    "d_model = 6\n",
    "h = 3\n",
    "dropout = 0.1\n",
    "\n",
    "# Create an instance of the MultiHeadAttention class\n",
    "multi_head_attention = MultiHeadAttention(d_model, h, dropout)\n",
    "\n",
    "# Create random tensors to represent a batch of sequences \n",
    "#for query, key, and value\n",
    "torch.manual_seed(68) # for reproducible result of random process\n",
    "input_tensor = torch.rand(batch_size, seq_len, d_model)\n",
    "\n",
    "# Copy input_tensor to new tensors: query, key, value. \n",
    "# Note that these are deep copies, \n",
    "#so changes to the new tensors will not affect the original tensor.\n",
    "query = input_tensor.clone()\n",
    "key = input_tensor.clone()\n",
    "value = input_tensor.clone()\n",
    "\n",
    "# Pass the tensors through the multi-head attention layer\n",
    "attention = multi_head_attention(query, key, value)\n",
    "\n",
    "print(\"attention: \\n\", attention)\n",
    "print(\"attention shape: \\n\", attention.shape)"
   ]
  },
  {
   "cell_type": "code",
   "execution_count": null,
   "id": "dc3e86eb-7b0d-48f8-9425-759123e20c9a",
   "metadata": {},
   "outputs": [],
   "source": []
  }
 ],
 "metadata": {
  "kernelspec": {
   "display_name": "Python 3 (ipykernel)",
   "language": "python",
   "name": "python3"
  },
  "language_info": {
   "codemirror_mode": {
    "name": "ipython",
    "version": 3
   },
   "file_extension": ".py",
   "mimetype": "text/x-python",
   "name": "python",
   "nbconvert_exporter": "python",
   "pygments_lexer": "ipython3",
   "version": "3.10.13"
  }
 },
 "nbformat": 4,
 "nbformat_minor": 5
}
