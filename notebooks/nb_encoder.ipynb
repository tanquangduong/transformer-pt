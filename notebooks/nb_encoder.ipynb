{
 "cells": [
  {
   "cell_type": "code",
   "execution_count": 3,
   "id": "7afa40ef-82f4-4c2a-9c04-e199d1a00ecc",
   "metadata": {},
   "outputs": [
    {
     "name": "stdout",
     "output_type": "stream",
     "text": [
      "Initial input tensor: \n",
      " tensor([[[0.3991, 0.5521, 0.1004, 0.2844, 0.9998, 0.7077],\n",
      "         [0.8031, 0.2066, 0.3589, 0.8509, 0.8753, 0.4669],\n",
      "         [0.6566, 0.6026, 0.2785, 0.1350, 0.2257, 0.9548],\n",
      "         [0.8214, 0.1386, 0.6055, 0.2300, 0.7895, 0.4098]]])\n",
      "Encoder Output: \n",
      " tensor([[[-0.3974, -0.2587, -1.6474,  1.0940,  0.8627,  0.3469],\n",
      "         [-0.1545,  0.4200, -1.9121,  0.9450,  0.3031,  0.3985],\n",
      "         [ 0.5027,  1.2010, -1.7493, -0.3809,  0.2800,  0.1464],\n",
      "         [-0.2241,  0.6265, -1.7504,  0.7316,  0.9280, -0.3115]]],\n",
      "       grad_fn=<AddBackward0>)\n",
      "Encoder Output's shape: \n",
      " torch.Size([1, 4, 6])\n"
     ]
    }
   ],
   "source": [
    "import sys\n",
    "sys.path.append('../')\n",
    "import torch\n",
    "from transformer.layer import MultiHeadAttention, FeedForward, LayerNorm\n",
    "from transformer.encoder import EncoderLayer, Encoder\n",
    "\n",
    "# Define configuration\n",
    "d_model = 6 # feature dimension\n",
    "h = 3 #  number of heads\n",
    "dropout = 0.1 # dropout ratio\n",
    "d_ff = 2048 # the dimension of the feed forward network\n",
    "batch = 1 # batch size\n",
    "seq_len = 4 # sequence length\n",
    "\n",
    "num_layers = 3 # number of encoder layer\n",
    "\n",
    "# Create an instance of the MultiHeadAttention and FeedForward classes\n",
    "self_attention_engine = MultiHeadAttention(d_model, h, dropout)\n",
    "feed_forward = FeedForward(d_model, d_ff, dropout)  \n",
    "\n",
    "# Create an instance of the EncoderLayer class\n",
    "encoder_layer = EncoderLayer(d_model, self_attention_engine, feed_forward, dropout)\n",
    "\n",
    "# Create an instance of the Encoder class\n",
    "encoder = Encoder(d_model, encoder_layer, num_layers)\n",
    "\n",
    "# Create a random tensor to represent a batch of sequences\n",
    "torch.manual_seed(68) # for reproducible result of random process\n",
    "x = torch.rand(batch, seq_len, d_model)  \n",
    "\n",
    "# Pass the tensor through the encoder\n",
    "output = encoder(x)\n",
    "\n",
    "print(\"Initial input tensor: \\n\", x)\n",
    "print(\"Encoder Output: \\n\", output)\n",
    "print(\"Encoder Output's shape: \\n\", output.shape)  "
   ]
  },
  {
   "cell_type": "code",
   "execution_count": null,
   "id": "075b8a80-879b-40c0-b156-bb45c916c2d3",
   "metadata": {},
   "outputs": [],
   "source": []
  }
 ],
 "metadata": {
  "kernelspec": {
   "display_name": "Python 3 (ipykernel)",
   "language": "python",
   "name": "python3"
  },
  "language_info": {
   "codemirror_mode": {
    "name": "ipython",
    "version": 3
   },
   "file_extension": ".py",
   "mimetype": "text/x-python",
   "name": "python",
   "nbconvert_exporter": "python",
   "pygments_lexer": "ipython3",
   "version": "3.10.13"
  }
 },
 "nbformat": 4,
 "nbformat_minor": 5
}
